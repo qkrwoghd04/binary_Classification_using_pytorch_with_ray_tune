{
  "cells": [
    {
      "cell_type": "markdown",
      "metadata": {
        "id": "view-in-github",
        "colab_type": "text"
      },
      "source": [
        "<a href=\"https://colab.research.google.com/github/qkrwoghd04/binary_Classification_using_pytorch_with_ray_tune/blob/main/ipynb/vit_classification_using_pytorch.ipynb\" target=\"_parent\"><img src=\"https://colab.research.google.com/assets/colab-badge.svg\" alt=\"Open In Colab\"/></a>"
      ]
    },
    {
      "cell_type": "code",
      "execution_count": null,
      "metadata": {
        "colab": {
          "base_uri": "https://localhost:8080/"
        },
        "id": "m3yO_dRg4Ysu",
        "outputId": "74f8f50e-e8d6-4870-f173-9df9bfe4f926"
      },
      "outputs": [
        {
          "output_type": "stream",
          "name": "stdout",
          "text": [
            "Requirement already satisfied: torch in /usr/local/lib/python3.10/dist-packages (2.2.1+cu121)\n",
            "Requirement already satisfied: filelock in /usr/local/lib/python3.10/dist-packages (from torch) (3.14.0)\n",
            "Requirement already satisfied: typing-extensions>=4.8.0 in /usr/local/lib/python3.10/dist-packages (from torch) (4.11.0)\n",
            "Requirement already satisfied: sympy in /usr/local/lib/python3.10/dist-packages (from torch) (1.12)\n",
            "Requirement already satisfied: networkx in /usr/local/lib/python3.10/dist-packages (from torch) (3.3)\n",
            "Requirement already satisfied: jinja2 in /usr/local/lib/python3.10/dist-packages (from torch) (3.1.3)\n",
            "Requirement already satisfied: fsspec in /usr/local/lib/python3.10/dist-packages (from torch) (2023.6.0)\n",
            "Requirement already satisfied: nvidia-cuda-nvrtc-cu12==12.1.105 in /usr/local/lib/python3.10/dist-packages (from torch) (12.1.105)\n",
            "Requirement already satisfied: nvidia-cuda-runtime-cu12==12.1.105 in /usr/local/lib/python3.10/dist-packages (from torch) (12.1.105)\n",
            "Requirement already satisfied: nvidia-cuda-cupti-cu12==12.1.105 in /usr/local/lib/python3.10/dist-packages (from torch) (12.1.105)\n",
            "Requirement already satisfied: nvidia-cudnn-cu12==8.9.2.26 in /usr/local/lib/python3.10/dist-packages (from torch) (8.9.2.26)\n",
            "Requirement already satisfied: nvidia-cublas-cu12==12.1.3.1 in /usr/local/lib/python3.10/dist-packages (from torch) (12.1.3.1)\n",
            "Requirement already satisfied: nvidia-cufft-cu12==11.0.2.54 in /usr/local/lib/python3.10/dist-packages (from torch) (11.0.2.54)\n",
            "Requirement already satisfied: nvidia-curand-cu12==10.3.2.106 in /usr/local/lib/python3.10/dist-packages (from torch) (10.3.2.106)\n",
            "Requirement already satisfied: nvidia-cusolver-cu12==11.4.5.107 in /usr/local/lib/python3.10/dist-packages (from torch) (11.4.5.107)\n",
            "Requirement already satisfied: nvidia-cusparse-cu12==12.1.0.106 in /usr/local/lib/python3.10/dist-packages (from torch) (12.1.0.106)\n",
            "Requirement already satisfied: nvidia-nccl-cu12==2.19.3 in /usr/local/lib/python3.10/dist-packages (from torch) (2.19.3)\n",
            "Requirement already satisfied: nvidia-nvtx-cu12==12.1.105 in /usr/local/lib/python3.10/dist-packages (from torch) (12.1.105)\n",
            "Requirement already satisfied: triton==2.2.0 in /usr/local/lib/python3.10/dist-packages (from torch) (2.2.0)\n",
            "Requirement already satisfied: nvidia-nvjitlink-cu12 in /usr/local/lib/python3.10/dist-packages (from nvidia-cusolver-cu12==11.4.5.107->torch) (12.4.127)\n",
            "Requirement already satisfied: MarkupSafe>=2.0 in /usr/local/lib/python3.10/dist-packages (from jinja2->torch) (2.1.5)\n",
            "Requirement already satisfied: mpmath>=0.19 in /usr/local/lib/python3.10/dist-packages (from sympy->torch) (1.3.0)\n",
            "Requirement already satisfied: torchinfo in /usr/local/lib/python3.10/dist-packages (1.8.0)\n",
            "Requirement already satisfied: ray in /usr/local/lib/python3.10/dist-packages (2.20.0)\n",
            "Requirement already satisfied: click>=7.0 in /usr/local/lib/python3.10/dist-packages (from ray) (8.1.7)\n",
            "Requirement already satisfied: filelock in /usr/local/lib/python3.10/dist-packages (from ray) (3.14.0)\n",
            "Requirement already satisfied: jsonschema in /usr/local/lib/python3.10/dist-packages (from ray) (4.19.2)\n",
            "Requirement already satisfied: msgpack<2.0.0,>=1.0.0 in /usr/local/lib/python3.10/dist-packages (from ray) (1.0.8)\n",
            "Requirement already satisfied: packaging in /usr/local/lib/python3.10/dist-packages (from ray) (24.0)\n",
            "Requirement already satisfied: protobuf!=3.19.5,>=3.15.3 in /usr/local/lib/python3.10/dist-packages (from ray) (3.20.3)\n",
            "Requirement already satisfied: pyyaml in /usr/local/lib/python3.10/dist-packages (from ray) (6.0.1)\n",
            "Requirement already satisfied: aiosignal in /usr/local/lib/python3.10/dist-packages (from ray) (1.3.1)\n",
            "Requirement already satisfied: frozenlist in /usr/local/lib/python3.10/dist-packages (from ray) (1.4.1)\n",
            "Requirement already satisfied: requests in /usr/local/lib/python3.10/dist-packages (from ray) (2.31.0)\n",
            "Requirement already satisfied: attrs>=22.2.0 in /usr/local/lib/python3.10/dist-packages (from jsonschema->ray) (23.2.0)\n",
            "Requirement already satisfied: jsonschema-specifications>=2023.03.6 in /usr/local/lib/python3.10/dist-packages (from jsonschema->ray) (2023.12.1)\n",
            "Requirement already satisfied: referencing>=0.28.4 in /usr/local/lib/python3.10/dist-packages (from jsonschema->ray) (0.35.0)\n",
            "Requirement already satisfied: rpds-py>=0.7.1 in /usr/local/lib/python3.10/dist-packages (from jsonschema->ray) (0.18.0)\n",
            "Requirement already satisfied: charset-normalizer<4,>=2 in /usr/local/lib/python3.10/dist-packages (from requests->ray) (3.3.2)\n",
            "Requirement already satisfied: idna<4,>=2.5 in /usr/local/lib/python3.10/dist-packages (from requests->ray) (3.7)\n",
            "Requirement already satisfied: urllib3<3,>=1.21.1 in /usr/local/lib/python3.10/dist-packages (from requests->ray) (2.0.7)\n",
            "Requirement already satisfied: certifi>=2017.4.17 in /usr/local/lib/python3.10/dist-packages (from requests->ray) (2024.2.2)\n",
            "Requirement already satisfied: tensorboardx in /usr/local/lib/python3.10/dist-packages (2.6.2.2)\n",
            "Requirement already satisfied: numpy in /usr/local/lib/python3.10/dist-packages (from tensorboardx) (1.25.2)\n",
            "Requirement already satisfied: packaging in /usr/local/lib/python3.10/dist-packages (from tensorboardx) (24.0)\n",
            "Requirement already satisfied: protobuf>=3.20 in /usr/local/lib/python3.10/dist-packages (from tensorboardx) (3.20.3)\n"
          ]
        }
      ],
      "source": [
        "!pip install torch\n",
        "!pip install torchinfo\n",
        "!pip install ray\n",
        "!pip install -U tensorboardx"
      ]
    },
    {
      "cell_type": "code",
      "source": [
        "!pip install timm"
      ],
      "metadata": {
        "colab": {
          "base_uri": "https://localhost:8080/"
        },
        "id": "glAXDAOhB6J3",
        "outputId": "b4dc29cf-7195-44cb-81f8-41092772c4ba"
      },
      "execution_count": null,
      "outputs": [
        {
          "output_type": "stream",
          "name": "stdout",
          "text": [
            "Requirement already satisfied: timm in /usr/local/lib/python3.10/dist-packages (0.9.16)\n",
            "Requirement already satisfied: torch in /usr/local/lib/python3.10/dist-packages (from timm) (2.2.1+cu121)\n",
            "Requirement already satisfied: torchvision in /usr/local/lib/python3.10/dist-packages (from timm) (0.17.1+cu121)\n",
            "Requirement already satisfied: pyyaml in /usr/local/lib/python3.10/dist-packages (from timm) (6.0.1)\n",
            "Requirement already satisfied: huggingface_hub in /usr/local/lib/python3.10/dist-packages (from timm) (0.20.3)\n",
            "Requirement already satisfied: safetensors in /usr/local/lib/python3.10/dist-packages (from timm) (0.4.3)\n",
            "Requirement already satisfied: filelock in /usr/local/lib/python3.10/dist-packages (from huggingface_hub->timm) (3.14.0)\n",
            "Requirement already satisfied: fsspec>=2023.5.0 in /usr/local/lib/python3.10/dist-packages (from huggingface_hub->timm) (2023.6.0)\n",
            "Requirement already satisfied: requests in /usr/local/lib/python3.10/dist-packages (from huggingface_hub->timm) (2.31.0)\n",
            "Requirement already satisfied: tqdm>=4.42.1 in /usr/local/lib/python3.10/dist-packages (from huggingface_hub->timm) (4.66.2)\n",
            "Requirement already satisfied: typing-extensions>=3.7.4.3 in /usr/local/lib/python3.10/dist-packages (from huggingface_hub->timm) (4.11.0)\n",
            "Requirement already satisfied: packaging>=20.9 in /usr/local/lib/python3.10/dist-packages (from huggingface_hub->timm) (24.0)\n",
            "Requirement already satisfied: sympy in /usr/local/lib/python3.10/dist-packages (from torch->timm) (1.12)\n",
            "Requirement already satisfied: networkx in /usr/local/lib/python3.10/dist-packages (from torch->timm) (3.3)\n",
            "Requirement already satisfied: jinja2 in /usr/local/lib/python3.10/dist-packages (from torch->timm) (3.1.3)\n",
            "Requirement already satisfied: nvidia-cuda-nvrtc-cu12==12.1.105 in /usr/local/lib/python3.10/dist-packages (from torch->timm) (12.1.105)\n",
            "Requirement already satisfied: nvidia-cuda-runtime-cu12==12.1.105 in /usr/local/lib/python3.10/dist-packages (from torch->timm) (12.1.105)\n",
            "Requirement already satisfied: nvidia-cuda-cupti-cu12==12.1.105 in /usr/local/lib/python3.10/dist-packages (from torch->timm) (12.1.105)\n",
            "Requirement already satisfied: nvidia-cudnn-cu12==8.9.2.26 in /usr/local/lib/python3.10/dist-packages (from torch->timm) (8.9.2.26)\n",
            "Requirement already satisfied: nvidia-cublas-cu12==12.1.3.1 in /usr/local/lib/python3.10/dist-packages (from torch->timm) (12.1.3.1)\n",
            "Requirement already satisfied: nvidia-cufft-cu12==11.0.2.54 in /usr/local/lib/python3.10/dist-packages (from torch->timm) (11.0.2.54)\n",
            "Requirement already satisfied: nvidia-curand-cu12==10.3.2.106 in /usr/local/lib/python3.10/dist-packages (from torch->timm) (10.3.2.106)\n",
            "Requirement already satisfied: nvidia-cusolver-cu12==11.4.5.107 in /usr/local/lib/python3.10/dist-packages (from torch->timm) (11.4.5.107)\n",
            "Requirement already satisfied: nvidia-cusparse-cu12==12.1.0.106 in /usr/local/lib/python3.10/dist-packages (from torch->timm) (12.1.0.106)\n",
            "Requirement already satisfied: nvidia-nccl-cu12==2.19.3 in /usr/local/lib/python3.10/dist-packages (from torch->timm) (2.19.3)\n",
            "Requirement already satisfied: nvidia-nvtx-cu12==12.1.105 in /usr/local/lib/python3.10/dist-packages (from torch->timm) (12.1.105)\n",
            "Requirement already satisfied: triton==2.2.0 in /usr/local/lib/python3.10/dist-packages (from torch->timm) (2.2.0)\n",
            "Requirement already satisfied: nvidia-nvjitlink-cu12 in /usr/local/lib/python3.10/dist-packages (from nvidia-cusolver-cu12==11.4.5.107->torch->timm) (12.4.127)\n",
            "Requirement already satisfied: numpy in /usr/local/lib/python3.10/dist-packages (from torchvision->timm) (1.25.2)\n",
            "Requirement already satisfied: pillow!=8.3.*,>=5.3.0 in /usr/local/lib/python3.10/dist-packages (from torchvision->timm) (9.4.0)\n",
            "Requirement already satisfied: MarkupSafe>=2.0 in /usr/local/lib/python3.10/dist-packages (from jinja2->torch->timm) (2.1.5)\n",
            "Requirement already satisfied: charset-normalizer<4,>=2 in /usr/local/lib/python3.10/dist-packages (from requests->huggingface_hub->timm) (3.3.2)\n",
            "Requirement already satisfied: idna<4,>=2.5 in /usr/local/lib/python3.10/dist-packages (from requests->huggingface_hub->timm) (3.7)\n",
            "Requirement already satisfied: urllib3<3,>=1.21.1 in /usr/local/lib/python3.10/dist-packages (from requests->huggingface_hub->timm) (2.0.7)\n",
            "Requirement already satisfied: certifi>=2017.4.17 in /usr/local/lib/python3.10/dist-packages (from requests->huggingface_hub->timm) (2024.2.2)\n",
            "Requirement already satisfied: mpmath>=0.19 in /usr/local/lib/python3.10/dist-packages (from sympy->torch->timm) (1.3.0)\n"
          ]
        }
      ]
    },
    {
      "cell_type": "code",
      "execution_count": null,
      "metadata": {
        "id": "p5g2EH0o42Zt"
      },
      "outputs": [],
      "source": [
        "import os\n",
        "import sys\n",
        "import tempfile\n",
        "import timm\n",
        "from timm.data import resolve_data_config\n",
        "from timm.data.transforms_factory import create_transform\n",
        "import pandas as pd\n",
        "from torch.utils.data import Dataset, DataLoader, random_split\n",
        "from torchvision.io import read_image\n",
        "# Image Classification\n",
        "import torch\n",
        "from torchvision.transforms import v2\n",
        "from torch import nn\n",
        "import torch.nn.functional as F\n",
        "from torchvision import datasets, transforms\n",
        "from torchvision.transforms import ToTensor\n",
        "import argparse\n",
        "from tqdm.notebook import tqdm\n",
        "import matplotlib.pyplot as plt\n",
        "import numpy as np\n",
        "from torchinfo import summary\n",
        "from functools import partial\n",
        "import os\n",
        "from pathlib import Path\n",
        "import torchvision.transforms as transforms\n",
        "from ray import tune\n",
        "from ray import train\n",
        "from ray.train import Checkpoint, get_checkpoint, Result\n",
        "from ray.tune.schedulers import ASHAScheduler\n",
        "from ray.tune.examples.mnist_pytorch import train_mnist\n",
        "from ray.tune import ResultGrid,CLIReporter\n",
        "import ray.cloudpickle as pickle\n",
        "from PIL import Image"
      ]
    },
    {
      "cell_type": "code",
      "execution_count": null,
      "metadata": {
        "id": "pyrOgmUf5cJl"
      },
      "outputs": [],
      "source": [
        "# Training device:\n",
        "device = 'cuda'\n",
        "\n",
        "# hyperparameter\n",
        "learning_rate = 1e-4\n",
        "batch_size = 64\n",
        "epochs = 20\n",
        "# based on paper's \"attention is all you need\"\n",
        "BATCH_SIZE = 64\n",
        "PATCH_SIZE = 16\n",
        "IMAGE_WIDTH = 224\n",
        "IMAGE_HEIGHT = IMAGE_WIDTH\n",
        "IMAGE_CHANNELS = 3\n",
        "EMBEDDING_DIMS = IMAGE_CHANNELS * PATCH_SIZE**2 #(3 * 16 * 16) = 768\n",
        "NUM_OF_PATCHES = int((IMAGE_WIDTH * IMAGE_HEIGHT) / PATCH_SIZE**2) #((224*224)/"
      ]
    },
    {
      "cell_type": "code",
      "execution_count": null,
      "metadata": {
        "id": "vmpdiuzX4wed"
      },
      "outputs": [],
      "source": [
        "class CustomImageDataset():\n",
        "  def __init__(self, csv_file, img_dir, transform=None, target_transform=None):\n",
        "        self.img_file = pd.read_csv(os.path.join(img_dir, csv_file))\n",
        "        self.csv_file = csv_file\n",
        "        self.img_dir = img_dir\n",
        "        self.transform = transform\n",
        "        self.target_transform = target_transform\n",
        "\n",
        "  def __len__(self):\n",
        "    return len(self.img_file)\n",
        "\n",
        "  def __getitem__(self, index):\n",
        "    # 레이블을 기반으로 서브폴더 경로 결정\n",
        "    label = self.img_file.iloc[index, 2]\n",
        "    subfolder = 'Sleep' if label == 'Sleep' else 'Fall'\n",
        "    if \"train\" in self.csv_file:\n",
        "      img_path = os.path.join(self.img_dir, 'train', subfolder, self.img_file.iloc[index, 0])\n",
        "\n",
        "    elif \"test\" in self.csv_file:\n",
        "      img_path = os.path.join(self.img_dir, 'test', subfolder, self.img_file.iloc[index, 0])\n",
        "    if(label == \"Sleep\"):\n",
        "       label = 0\n",
        "    else: label = 1\n",
        "    image = read_image(img_path)\n",
        "    if self.transform:\n",
        "        image = self.transform(image)\n",
        "    if self.target_transform:\n",
        "        label = self.target_transform(label)\n",
        "\n",
        "    return image, label"
      ]
    },
    {
      "cell_type": "code",
      "execution_count": null,
      "metadata": {
        "id": "oxIvpPtO5Kzz"
      },
      "outputs": [],
      "source": [
        "def image_transform():\n",
        "  transforms = v2.Compose([\n",
        "      v2.Resize((224, 224)),\n",
        "      v2.RandomHorizontalFlip(p=0.2),\n",
        "      v2.ToDtype(torch.float32, scale=True),\n",
        "      v2.Normalize(mean=[0.485, 0.456, 0.406], std=[0.229, 0.224, 0.225]),\n",
        "  ])\n",
        "\n",
        "\n",
        "  return transforms\n",
        "\n",
        "def test_img_transform():\n",
        "  resize_transforms = v2.Compose([\n",
        "      v2.Resize((224,224)),\n",
        "      v2.ToDtype(torch.float32, scale=True),\n",
        "      v2.Normalize(mean=[0.485, 0.456, 0.406], std=[0.229, 0.224, 0.225]),\n",
        "  ])\n",
        "\n",
        "  return resize_transforms\n",
        "\n",
        "def visualize_data(train_dataloader):\n",
        "    # 이미지와 정답(label)을 표시합니다.\n",
        "    train_features, train_labels = next(iter(train_dataloader))\n",
        "    print(len(train_features))\n",
        "    print(f\"Feature batch shape: {train_features.size()}\")\n",
        "    print(f\"Labels batch shape: {train_labels.size()}\")\n",
        "    img = train_features[0].squeeze()\n",
        "    label = train_labels[0]\n",
        "\n",
        "    if img.dim() == 3 and img.size(0) == 3:\n",
        "        img = img.permute(1, 2, 0)\n",
        "\n",
        "    plt.imshow(img, cmap=\"gray\")\n",
        "    plt.show()\n",
        "    print(f\"Label: {label}\")"
      ]
    },
    {
      "cell_type": "code",
      "execution_count": null,
      "metadata": {
        "id": "qLvo88045W1T"
      },
      "outputs": [],
      "source": [
        "class PatchEmbeddingLayer(nn.Module):\n",
        "    def __init__(self, in_channels, patch_size, embedding_dim):\n",
        "        super().__init__()\n",
        "        self.patch_size = patch_size\n",
        "        self.embedding_dim = embedding_dim\n",
        "        self.in_channels = in_channels\n",
        "        self.conv_layer = nn.Conv2d(in_channels=in_channels,\n",
        "                                    out_channels=embedding_dim, kernel_size=patch_size, stride=patch_size)\n",
        "        self.flatten_layer = nn.Flatten(start_dim=1, end_dim=2)\n",
        "        self.class_token_embeddings = nn.Parameter(torch.randn(1, 1, embedding_dim), requires_grad=True)\n",
        "        self.position_embeddings = nn.Parameter(torch.randn(1, NUM_OF_PATCHES + 1, embedding_dim), requires_grad=True)\n",
        "\n",
        "    def forward(self, x):\n",
        "        batch_size = x.size(0)\n",
        "        class_token_embeddings = self.class_token_embeddings.repeat(batch_size, 1, 1)\n",
        "        x = self.conv_layer(x)\n",
        "        x = x.permute(0, 2, 3, 1)\n",
        "        x = self.flatten_layer(x)\n",
        "        x = torch.cat((class_token_embeddings, x), dim=1)\n",
        "        x = x + self.position_embeddings\n",
        "        return x"
      ]
    },
    {
      "cell_type": "code",
      "execution_count": null,
      "metadata": {
        "id": "X-6jwasE5Zxh"
      },
      "outputs": [],
      "source": [
        "class MultiHeadSelfAttentionBlock(nn.Module):\n",
        "    def __init__(self, embedding_dims = 768, num_heads = 12, attn_dropout=0.0):\n",
        "        super().__init__()\n",
        "        self.embedding_dims = embedding_dims\n",
        "        self.num_head = num_heads\n",
        "        self.attn_dropout = attn_dropout\n",
        "        self.layernorm = nn.LayerNorm(normalized_shape = embedding_dims)\n",
        "        self.multiheadattention = nn.MultiheadAttention(num_heads = num_heads,\n",
        "                                                        embed_dim = embedding_dims,\n",
        "                                                        dropout = attn_dropout,\n",
        "                                                        batch_first = True,\n",
        "                                                        )\n",
        "    def forward(self, x):\n",
        "        x = self.layernorm(x)\n",
        "        output,_ = self.multiheadattention(query=x, key=x, value=x, need_weights=False)\n",
        "        return output"
      ]
    },
    {
      "cell_type": "code",
      "execution_count": null,
      "metadata": {
        "id": "fmTZC8n-5iIn"
      },
      "outputs": [],
      "source": [
        "class MachineLearningPerceptronBlock(nn.Module):\n",
        "    def __init__(self, embedding_dims, mlp_size, mlp_dropout):\n",
        "        super().__init__()\n",
        "        self.embedding_dims = embedding_dims\n",
        "        self.mlp_size = mlp_size\n",
        "        self.mlp_dropout = mlp_dropout\n",
        "\n",
        "        self.layernorm = nn.LayerNorm(normalized_shape = embedding_dims)\n",
        "        self.mlp = nn.Sequential(\n",
        "            nn.Linear(in_features = embedding_dims, out_features = mlp_size),\n",
        "            nn.GELU(),\n",
        "            nn.Dropout(p = mlp_dropout),\n",
        "            nn.Linear(in_features = mlp_size, out_features = embedding_dims),\n",
        "            nn.Dropout(p = mlp_dropout)\n",
        "        )\n",
        "    def forward(self,x):\n",
        "        return self.mlp(self.layernorm(x))"
      ]
    },
    {
      "cell_type": "code",
      "execution_count": null,
      "metadata": {
        "id": "JAKcmSVx5kpg"
      },
      "outputs": [],
      "source": [
        "class TransformerBlock(nn.Module):\n",
        "    def __init__(self, embedding_dims = 768,\n",
        "                 mlp_dropout=0.1,\n",
        "                 attn_dropout = 0.0,\n",
        "                 mlp_size = 3072,\n",
        "                 num_heads = 12,\n",
        "                 ):\n",
        "        super().__init__()\n",
        "\n",
        "        self.mas_block = MultiHeadSelfAttentionBlock(embedding_dims = embedding_dims, num_heads = num_heads, attn_dropout=attn_dropout,)\n",
        "\n",
        "        self.mlp_block = MachineLearningPerceptronBlock(embedding_dims=embedding_dims, mlp_size=mlp_size, mlp_dropout=mlp_dropout,)\n",
        "    def forward(self, x):\n",
        "        x = self.mas_block(x) + x\n",
        "        x = self.mlp_block(x) + x\n",
        "        return x"
      ]
    },
    {
      "cell_type": "code",
      "execution_count": null,
      "metadata": {
        "id": "D0qrGCrW5nQ5"
      },
      "outputs": [],
      "source": [
        "class vit_model(nn.Module):\n",
        "    def __init__(self, img_size = 224, in_channels = 3, patch_size = 16, embedding_dims = 768, num_transformer_layers = 12, mlp_dropout = 0.1, attn_dropout = 0.0, mlp_size = 3072, num_heads = 12, num_classes = 2):\n",
        "        super().__init__()\n",
        "\n",
        "        self.patch_embedding_layer = PatchEmbeddingLayer(in_channels=in_channels, patch_size=patch_size, embedding_dim=embedding_dims)\n",
        "\n",
        "        self.transformer_encoder = nn.Sequential(*[TransformerBlock(embedding_dims = embedding_dims, mlp_dropout=mlp_dropout, attn_dropout=attn_dropout, mlp_size=mlp_size, num_heads=num_heads) for _ in range(num_transformer_layers)])\n",
        "        self.classifier = nn.Sequential(nn.LayerNorm(normalized_shape = embedding_dims), nn.Linear(in_features = embedding_dims, out_features = num_classes))\n",
        "    def forward(self, x):\n",
        "        return self.classifier(self.transformer_encoder(self.patch_embedding_layer(x))[:, 0])\n"
      ]
    },
    {
      "cell_type": "code",
      "execution_count": null,
      "metadata": {
        "id": "70NPZuEb5poN"
      },
      "outputs": [],
      "source": [
        "def train_loop(dataloader, model, loss_fn, optimizer):\n",
        "    for epoch in range(epochs):\n",
        "        epoch_loss = 0\n",
        "        epoch_accuracy = 0\n",
        "        for data, label in tqdm(dataloader):\n",
        "            data = data.to(device)\n",
        "            label = label.to(device)\n",
        "\n",
        "            output = model(data)\n",
        "            loss = loss_fn(output, label)\n",
        "\n",
        "            optimizer.zero_grad()\n",
        "            loss.backward()\n",
        "            optimizer.step()\n",
        "\n",
        "            acc = (output.argmax(dim=1) == label).float().mean()\n",
        "            epoch_accuracy += acc / len(dataloader)\n",
        "            epoch_loss += loss / len(dataloader)\n",
        "\n",
        "        print(\n",
        "            f\"Epoch : {epoch+1} - loss : {epoch_loss:.4f} - acc: {epoch_accuracy:.4f}\\n\"\n",
        "        )"
      ]
    },
    {
      "cell_type": "code",
      "execution_count": null,
      "metadata": {
        "id": "jIz3QHXw5vL2"
      },
      "outputs": [],
      "source": [
        "file_path = r\"/content/drive/MyDrive/image_dataset/processed/\"\n",
        "train_data_csv = \"train_captions.csv\"\n",
        "test_data_csv = \"test_captions.csv\"\n",
        "transform = image_transform()\n",
        "test_transform = test_img_transform()\n",
        "train_dataset = CustomImageDataset(csv_file=train_data_csv, img_dir=file_path, transform=transform,)\n",
        "# 트레이닝과 검증 데이터셋 크기 계산\n",
        "total_train = len(train_dataset)\n",
        "val_size = int(0.20 * total_train)\n",
        "train_size = total_train - val_size\n",
        "\n",
        "# 데이터셋 분할\n",
        "train_subset, val_subset = random_split(train_dataset, [train_size, val_size])\n",
        "test_dataset = CustomImageDataset(csv_file=test_data_csv, img_dir=file_path, transform=test_transform)\n",
        "\n",
        "train_dataloader = torch.utils.data.DataLoader(train_subset, batch_size=batch_size, shuffle=True, num_workers=1)\n",
        "val_dataloader = DataLoader(val_subset, batch_size=batch_size, shuffle=True, num_workers=1)\n",
        "test_dataloader = torch.utils.data.DataLoader(test_dataset, batch_size=batch_size, shuffle=True, num_workers=1)"
      ]
    },
    {
      "cell_type": "code",
      "execution_count": null,
      "metadata": {
        "id": "h24rmNxT7Pqu",
        "colab": {
          "base_uri": "https://localhost:8080/",
          "height": 556
        },
        "outputId": "c994a21e-12e8-434c-e39d-9d6a6ef9e45f"
      },
      "outputs": [
        {
          "output_type": "stream",
          "name": "stderr",
          "text": [
            "/usr/lib/python3.10/multiprocessing/popen_fork.py:66: RuntimeWarning: os.fork() was called. os.fork() is incompatible with multithreaded code, and JAX is multithreaded, so this will likely lead to a deadlock.\n",
            "  self.pid = os.fork()\n",
            "WARNING:matplotlib.image:Clipping input data to the valid range for imshow with RGB data ([0..1] for floats or [0..255] for integers).\n"
          ]
        },
        {
          "output_type": "stream",
          "name": "stdout",
          "text": [
            "64\n",
            "Feature batch shape: torch.Size([64, 3, 224, 224])\n",
            "Labels batch shape: torch.Size([64])\n"
          ]
        },
        {
          "output_type": "display_data",
          "data": {
            "text/plain": [
              "<Figure size 640x480 with 1 Axes>"
            ],
            "image/png": "[encoded data removed]"
          },
          "metadata": {}
        },
        {
          "output_type": "stream",
          "name": "stdout",
          "text": [
            "Label: 0\n"
          ]
        }
      ],
      "source": [
        "visualize_data(train_dataloader)"
      ]
    },
    {
      "cell_type": "code",
      "source": [
        "visualize_data(test_dataloader)"
      ],
      "metadata": {
        "colab": {
          "base_uri": "https://localhost:8080/",
          "height": 521
        },
        "id": "lO7MZMKXcyW5",
        "outputId": "c97a6b84-2b5a-467c-dd25-85246c6cff5a"
      },
      "execution_count": null,
      "outputs": [
        {
          "output_type": "stream",
          "name": "stderr",
          "text": [
            "WARNING:matplotlib.image:Clipping input data to the valid range for imshow with RGB data ([0..1] for floats or [0..255] for integers).\n"
          ]
        },
        {
          "output_type": "stream",
          "name": "stdout",
          "text": [
            "40\n",
            "Feature batch shape: torch.Size([40, 3, 224, 224])\n",
            "Labels batch shape: torch.Size([40])\n"
          ]
        },
        {
          "output_type": "display_data",
          "data": {
            "text/plain": [
              "<Figure size 640x480 with 1 Axes>"
            ],
            "image/png": "[encoded data removed]"
          },
          "metadata": {}
        },
        {
          "output_type": "stream",
          "name": "stdout",
          "text": [
            "Label: 0\n"
          ]
        }
      ]
    },
    {
      "cell_type": "code",
      "execution_count": null,
      "metadata": {
        "colab": {
          "base_uri": "https://localhost:8080/"
        },
        "id": "NWnvylWD8ENd",
        "outputId": "83f2ce18-568b-45d3-d2ff-0f311d2f48e2"
      },
      "outputs": [
        {
          "output_type": "stream",
          "name": "stderr",
          "text": [
            "/usr/local/lib/python3.10/dist-packages/huggingface_hub/utils/_token.py:88: UserWarning: \n",
            "The secret `HF_TOKEN` does not exist in your Colab secrets.\n",
            "To authenticate with the Hugging Face Hub, create a token in your settings tab (https://huggingface.co/settings/tokens), set it as secret in your Google Colab and restart your session.\n",
            "You will be able to reuse this secret in all of your notebooks.\n",
            "Please note that authentication is recommended but still optional to access public models or datasets.\n",
            "  warnings.warn(\n"
          ]
        }
      ],
      "source": [
        "device = \"cuda\" if torch.cuda.is_available() else \"cpu\"\n",
        "# model = vit_model().to(device)\n",
        "# summary(model, input_size=(batch_size, IMAGE_CHANNELS, IMAGE_WIDTH, IMAGE_HEIGHT))\n",
        "model = timm.create_model('vit_base_patch16_224', pretrained=True)\n",
        "config = resolve_data_config({}, model=model)\n",
        "transform = create_transform(**config)"
      ]
    },
    {
      "cell_type": "code",
      "source": [
        "summary(model, input_size=(batch_size, IMAGE_CHANNELS, IMAGE_WIDTH, IMAGE_HEIGHT))"
      ],
      "metadata": {
        "colab": {
          "base_uri": "https://localhost:8080/"
        },
        "id": "ThewdAMnCPJF",
        "outputId": "f03c340d-5072-4987-c1ce-14e0261b9ecb"
      },
      "execution_count": null,
      "outputs": [
        {
          "output_type": "execute_result",
          "data": {
            "text/plain": [
              "==========================================================================================\n",
              "Layer (type:depth-idx)                   Output Shape              Param #\n",
              "==========================================================================================\n",
              "VisionTransformer                        [64, 1000]                152,064\n",
              "├─PatchEmbed: 1-1                        [64, 196, 768]            --\n",
              "│    └─Conv2d: 2-1                       [64, 768, 14, 14]         590,592\n",
              "│    └─Identity: 2-2                     [64, 196, 768]            --\n",
              "├─Dropout: 1-2                           [64, 197, 768]            --\n",
              "├─Identity: 1-3                          [64, 197, 768]            --\n",
              "├─Identity: 1-4                          [64, 197, 768]            --\n",
              "├─Sequential: 1-5                        [64, 197, 768]            --\n",
              "│    └─Block: 2-3                        [64, 197, 768]            --\n",
              "│    │    └─LayerNorm: 3-1               [64, 197, 768]            1,536\n",
              "│    │    └─Attention: 3-2               [64, 197, 768]            2,362,368\n",
              "│    │    └─Identity: 3-3                [64, 197, 768]            --\n",
              "│    │    └─Identity: 3-4                [64, 197, 768]            --\n",
              "│    │    └─LayerNorm: 3-5               [64, 197, 768]            1,536\n",
              "│    │    └─Mlp: 3-6                     [64, 197, 768]            4,722,432\n",
              "│    │    └─Identity: 3-7                [64, 197, 768]            --\n",
              "│    │    └─Identity: 3-8                [64, 197, 768]            --\n",
              "│    └─Block: 2-4                        [64, 197, 768]            --\n",
              "│    │    └─LayerNorm: 3-9               [64, 197, 768]            1,536\n",
              "│    │    └─Attention: 3-10              [64, 197, 768]            2,362,368\n",
              "│    │    └─Identity: 3-11               [64, 197, 768]            --\n",
              "│    │    └─Identity: 3-12               [64, 197, 768]            --\n",
              "│    │    └─LayerNorm: 3-13              [64, 197, 768]            1,536\n",
              "│    │    └─Mlp: 3-14                    [64, 197, 768]            4,722,432\n",
              "│    │    └─Identity: 3-15               [64, 197, 768]            --\n",
              "│    │    └─Identity: 3-16               [64, 197, 768]            --\n",
              "│    └─Block: 2-5                        [64, 197, 768]            --\n",
              "│    │    └─LayerNorm: 3-17              [64, 197, 768]            1,536\n",
              "│    │    └─Attention: 3-18              [64, 197, 768]            2,362,368\n",
              "│    │    └─Identity: 3-19               [64, 197, 768]            --\n",
              "│    │    └─Identity: 3-20               [64, 197, 768]            --\n",
              "│    │    └─LayerNorm: 3-21              [64, 197, 768]            1,536\n",
              "│    │    └─Mlp: 3-22                    [64, 197, 768]            4,722,432\n",
              "│    │    └─Identity: 3-23               [64, 197, 768]            --\n",
              "│    │    └─Identity: 3-24               [64, 197, 768]            --\n",
              "│    └─Block: 2-6                        [64, 197, 768]            --\n",
              "│    │    └─LayerNorm: 3-25              [64, 197, 768]            1,536\n",
              "│    │    └─Attention: 3-26              [64, 197, 768]            2,362,368\n",
              "│    │    └─Identity: 3-27               [64, 197, 768]            --\n",
              "│    │    └─Identity: 3-28               [64, 197, 768]            --\n",
              "│    │    └─LayerNorm: 3-29              [64, 197, 768]            1,536\n",
              "│    │    └─Mlp: 3-30                    [64, 197, 768]            4,722,432\n",
              "│    │    └─Identity: 3-31               [64, 197, 768]            --\n",
              "│    │    └─Identity: 3-32               [64, 197, 768]            --\n",
              "│    └─Block: 2-7                        [64, 197, 768]            --\n",
              "│    │    └─LayerNorm: 3-33              [64, 197, 768]            1,536\n",
              "│    │    └─Attention: 3-34              [64, 197, 768]            2,362,368\n",
              "│    │    └─Identity: 3-35               [64, 197, 768]            --\n",
              "│    │    └─Identity: 3-36               [64, 197, 768]            --\n",
              "│    │    └─LayerNorm: 3-37              [64, 197, 768]            1,536\n",
              "│    │    └─Mlp: 3-38                    [64, 197, 768]            4,722,432\n",
              "│    │    └─Identity: 3-39               [64, 197, 768]            --\n",
              "│    │    └─Identity: 3-40               [64, 197, 768]            --\n",
              "│    └─Block: 2-8                        [64, 197, 768]            --\n",
              "│    │    └─LayerNorm: 3-41              [64, 197, 768]            1,536\n",
              "│    │    └─Attention: 3-42              [64, 197, 768]            2,362,368\n",
              "│    │    └─Identity: 3-43               [64, 197, 768]            --\n",
              "│    │    └─Identity: 3-44               [64, 197, 768]            --\n",
              "│    │    └─LayerNorm: 3-45              [64, 197, 768]            1,536\n",
              "│    │    └─Mlp: 3-46                    [64, 197, 768]            4,722,432\n",
              "│    │    └─Identity: 3-47               [64, 197, 768]            --\n",
              "│    │    └─Identity: 3-48               [64, 197, 768]            --\n",
              "│    └─Block: 2-9                        [64, 197, 768]            --\n",
              "│    │    └─LayerNorm: 3-49              [64, 197, 768]            1,536\n",
              "│    │    └─Attention: 3-50              [64, 197, 768]            2,362,368\n",
              "│    │    └─Identity: 3-51               [64, 197, 768]            --\n",
              "│    │    └─Identity: 3-52               [64, 197, 768]            --\n",
              "│    │    └─LayerNorm: 3-53              [64, 197, 768]            1,536\n",
              "│    │    └─Mlp: 3-54                    [64, 197, 768]            4,722,432\n",
              "│    │    └─Identity: 3-55               [64, 197, 768]            --\n",
              "│    │    └─Identity: 3-56               [64, 197, 768]            --\n",
              "│    └─Block: 2-10                       [64, 197, 768]            --\n",
              "│    │    └─LayerNorm: 3-57              [64, 197, 768]            1,536\n",
              "│    │    └─Attention: 3-58              [64, 197, 768]            2,362,368\n",
              "│    │    └─Identity: 3-59               [64, 197, 768]            --\n",
              "│    │    └─Identity: 3-60               [64, 197, 768]            --\n",
              "│    │    └─LayerNorm: 3-61              [64, 197, 768]            1,536\n",
              "│    │    └─Mlp: 3-62                    [64, 197, 768]            4,722,432\n",
              "│    │    └─Identity: 3-63               [64, 197, 768]            --\n",
              "│    │    └─Identity: 3-64               [64, 197, 768]            --\n",
              "│    └─Block: 2-11                       [64, 197, 768]            --\n",
              "│    │    └─LayerNorm: 3-65              [64, 197, 768]            1,536\n",
              "│    │    └─Attention: 3-66              [64, 197, 768]            2,362,368\n",
              "│    │    └─Identity: 3-67               [64, 197, 768]            --\n",
              "│    │    └─Identity: 3-68               [64, 197, 768]            --\n",
              "│    │    └─LayerNorm: 3-69              [64, 197, 768]            1,536\n",
              "│    │    └─Mlp: 3-70                    [64, 197, 768]            4,722,432\n",
              "│    │    └─Identity: 3-71               [64, 197, 768]            --\n",
              "│    │    └─Identity: 3-72               [64, 197, 768]            --\n",
              "│    └─Block: 2-12                       [64, 197, 768]            --\n",
              "│    │    └─LayerNorm: 3-73              [64, 197, 768]            1,536\n",
              "│    │    └─Attention: 3-74              [64, 197, 768]            2,362,368\n",
              "│    │    └─Identity: 3-75               [64, 197, 768]            --\n",
              "│    │    └─Identity: 3-76               [64, 197, 768]            --\n",
              "│    │    └─LayerNorm: 3-77              [64, 197, 768]            1,536\n",
              "│    │    └─Mlp: 3-78                    [64, 197, 768]            4,722,432\n",
              "│    │    └─Identity: 3-79               [64, 197, 768]            --\n",
              "│    │    └─Identity: 3-80               [64, 197, 768]            --\n",
              "│    └─Block: 2-13                       [64, 197, 768]            --\n",
              "│    │    └─LayerNorm: 3-81              [64, 197, 768]            1,536\n",
              "│    │    └─Attention: 3-82              [64, 197, 768]            2,362,368\n",
              "│    │    └─Identity: 3-83               [64, 197, 768]            --\n",
              "│    │    └─Identity: 3-84               [64, 197, 768]            --\n",
              "│    │    └─LayerNorm: 3-85              [64, 197, 768]            1,536\n",
              "│    │    └─Mlp: 3-86                    [64, 197, 768]            4,722,432\n",
              "│    │    └─Identity: 3-87               [64, 197, 768]            --\n",
              "│    │    └─Identity: 3-88               [64, 197, 768]            --\n",
              "│    └─Block: 2-14                       [64, 197, 768]            --\n",
              "│    │    └─LayerNorm: 3-89              [64, 197, 768]            1,536\n",
              "│    │    └─Attention: 3-90              [64, 197, 768]            2,362,368\n",
              "│    │    └─Identity: 3-91               [64, 197, 768]            --\n",
              "│    │    └─Identity: 3-92               [64, 197, 768]            --\n",
              "│    │    └─LayerNorm: 3-93              [64, 197, 768]            1,536\n",
              "│    │    └─Mlp: 3-94                    [64, 197, 768]            4,722,432\n",
              "│    │    └─Identity: 3-95               [64, 197, 768]            --\n",
              "│    │    └─Identity: 3-96               [64, 197, 768]            --\n",
              "├─LayerNorm: 1-6                         [64, 197, 768]            1,536\n",
              "├─Identity: 1-7                          [64, 768]                 --\n",
              "├─Dropout: 1-8                           [64, 768]                 --\n",
              "├─Linear: 1-9                            [64, 1000]                769,000\n",
              "==========================================================================================\n",
              "Total params: 86,567,656\n",
              "Trainable params: 86,567,656\n",
              "Non-trainable params: 0\n",
              "Total mult-adds (G): 12.90\n",
              "==========================================================================================\n",
              "Input size (MB): 38.54\n",
              "Forward/backward pass size (MB): 10380.23\n",
              "Params size (MB): 345.66\n",
              "Estimated Total Size (MB): 10764.43\n",
              "=========================================================================================="
            ]
          },
          "metadata": {},
          "execution_count": 17
        }
      ]
    },
    {
      "cell_type": "code",
      "source": [
        "CHECKPOINT_FREQ = 3\n",
        "CHECKPOINT_DIR = \"./drive/MyDrive/ray_results/tune_analyzing_results/checkpoints\"  # 영구 저장소 경로 설정\n",
        "\n",
        "def train_func(config):\n",
        "  start = 1\n",
        "  device = \"cuda\" if torch.cuda.is_available() else \"cpu\"\n",
        "  # model = vit_model().to(device)\n",
        "  model = timm.create_model('vit_base_patch16_224', pretrained=True)\n",
        "  model.to(\"cuda\")\n",
        "  model_config = resolve_data_config({}, model=model)\n",
        "  transform = create_transform(**model_config)\n",
        "  loss_fn = nn.CrossEntropyLoss()\n",
        "  optimizer = torch.optim.Adam(model.parameters(), lr=config[\"lr\"])\n",
        "\n",
        "  # #Define checkpoint\n",
        "  checkpoint = train.get_checkpoint()\n",
        "  if checkpoint:\n",
        "      with checkpoint.as_directory() as checkpoint_dir:\n",
        "          checkpoint_dict = torch.load(os.path.join(checkpoint_dir, \"checkpoint.pt\"))\n",
        "          print(checkpoint_dict)\n",
        "          start = checkpoint_dict[\"epoch\"] + 1\n",
        "          model.load_state_dict(checkpoint_dict[\"model_state\"])\n",
        "\n",
        "  train_dataloader = torch.utils.data.DataLoader(train_subset, batch_size=batch_size, shuffle=True, num_workers=1)\n",
        "  val_dataloader = DataLoader(val_subset, batch_size=batch_size, shuffle=True, num_workers=1)\n",
        "\n",
        "  #model training\n",
        "  for epoch in range(start, config[\"epochs\"] + 1):  # loop over the dataset multiple times\n",
        "      running_loss = 0.0\n",
        "      epoch_steps = 0\n",
        "      for i, data in enumerate(train_dataloader, 0):\n",
        "          # get the inputs; data is a list of [inputs, labels]\n",
        "          inputs, labels = data\n",
        "          inputs, labels = inputs.to(device), labels.to(device)\n",
        "\n",
        "          # zero the parameter gradients\n",
        "          optimizer.zero_grad()\n",
        "\n",
        "          # forward + backward + optimize\n",
        "          outputs = model(inputs)\n",
        "          loss = loss_fn(outputs, labels)\n",
        "          loss.backward()\n",
        "          optimizer.step()\n",
        "\n",
        "          # print statistics\n",
        "          running_loss += loss.item()\n",
        "          epoch_steps += 1\n",
        "          if i % 2000 == 1999:  # print every 2000 mini-batches\n",
        "              print(\"[%d, %5d] loss: %.3f\" % (epoch + 1, i + 1,\n",
        "                                                running_loss / epoch_steps))\n",
        "              running_loss = 0.0\n",
        "\n",
        "      # Validation loss\n",
        "      val_loss = 0.0\n",
        "      val_steps = 0\n",
        "      total = 0\n",
        "      correct = 0\n",
        "      for i, data in enumerate(val_dataloader, 0):\n",
        "          with torch.no_grad():\n",
        "              inputs, labels = data\n",
        "              inputs, labels = inputs.to(device), labels.to(device)\n",
        "\n",
        "              outputs = model(inputs)\n",
        "              _, predicted = torch.max(outputs.data, 1)\n",
        "              total += labels.size(0)\n",
        "              correct += (predicted == labels).sum().item()\n",
        "\n",
        "              loss = loss_fn(outputs, labels)\n",
        "              val_loss += loss.cpu().numpy()\n",
        "              val_steps += 1\n",
        "      metrics = {\n",
        "            \"loss\": running_loss / len(train_dataloader),\n",
        "            \"val_loss\": val_loss / len(val_dataloader),\n",
        "            \"mean_accuracy\": correct / total\n",
        "      }\n",
        "      with tempfile.TemporaryDirectory() as tempdir:\n",
        "          print(os.path.join(tempdir, \"checkpoint.pt\"))\n",
        "          torch.save(\n",
        "              {\"epoch\": epoch, \"model_state\": model.state_dict()},\n",
        "              os.path.join(tempdir, \"checkpoint.pt\"),\n",
        "          )\n",
        "          train.report(metrics=metrics, checkpoint=Checkpoint.from_directory(tempdir))"
      ],
      "metadata": {
        "id": "uI15gCHmdHTi"
      },
      "execution_count": null,
      "outputs": []
    },
    {
      "cell_type": "code",
      "execution_count": null,
      "metadata": {
        "id": "k5VOY_rtMQu-"
      },
      "outputs": [],
      "source": [
        "def test_accuracy(model, device=\"cpu\"):\n",
        "    test_dataloader = torch.utils.data.DataLoader(test_dataset, batch_size=batch_size, shuffle=True, num_workers=1)\n",
        "    correct = 0\n",
        "    total = 0\n",
        "    with torch.no_grad():\n",
        "        for data in test_dataloader:\n",
        "            images, labels = data\n",
        "            images, labels = images.to(device), labels.to(device)\n",
        "            outputs = model(images)\n",
        "            _, predicted = torch.max(outputs.data, 1)\n",
        "            total += labels.size(0)\n",
        "            correct += (predicted == labels).sum().item()\n",
        "\n",
        "    return correct / total"
      ]
    },
    {
      "cell_type": "code",
      "execution_count": null,
      "metadata": {
        "colab": {
          "base_uri": "https://localhost:8080/"
        },
        "id": "Ouron772Noys",
        "outputId": "59706e4a-2e53-4af3-816b-274218418cfb"
      },
      "outputs": [
        {
          "output_type": "stream",
          "name": "stdout",
          "text": [
            "+-----------------------------------------------------------+\n",
            "| Configuration for experiment     tune_analyzing_results   |\n",
            "+-----------------------------------------------------------+\n",
            "| Search algorithm                 BasicVariantGenerator    |\n",
            "| Scheduler                        AsyncHyperBandScheduler  |\n",
            "| Number of trials                 8                        |\n",
            "+-----------------------------------------------------------+\n",
            "\n",
            "View detailed results here: /content/drive/MyDrive/ray_results/tune_analyzing_results\n",
            "To visualize your results with TensorBoard, run: `tensorboard --logdir /tmp/ray/session_2024-05-07_14-33-35_603960_48572/artifacts/2024-05-07_14-38-43/tune_analyzing_results/driver_artifacts`\n",
            "\n",
            "Trial status: 2 PENDING\n",
            "Current time: 2024-05-07 14:38:44. Total running time: 0s\n",
            "Logical resource usage: 4.0/8 CPUs, 1.0/1 GPUs (1.0/1.0 accelerator_type:T4)\n",
            "+----------------------------------------------------------------+\n",
            "| Trial name               status              lr     batch_size |\n",
            "+----------------------------------------------------------------+\n",
            "| train_func_80fed_00000   PENDING    0.000238589             16 |\n",
            "| train_func_80fed_00001   PENDING    0.000181062             64 |\n",
            "+----------------------------------------------------------------+\n",
            "\n",
            "Trial train_func_80fed_00000 started with configuration:\n",
            "+-------------------------------------------------+\n",
            "| Trial train_func_80fed_00000 config             |\n",
            "+-------------------------------------------------+\n",
            "| batch_size                                   16 |\n",
            "| epochs                                       10 |\n",
            "| lr                                      0.00024 |\n",
            "| should_checkpoint                             1 |\n",
            "+-------------------------------------------------+\n"
          ]
        },
        {
          "output_type": "stream",
          "name": "stderr",
          "text": [
            "\u001b[36m(train_func pid=51179)\u001b[0m /usr/lib/python3.10/multiprocessing/popen_fork.py:66: RuntimeWarning: os.fork() was called. os.fork() is incompatible with multithreaded code, and JAX is multithreaded, so this will likely lead to a deadlock.\n",
            "\u001b[36m(train_func pid=51179)\u001b[0m   self.pid = os.fork()\n"
          ]
        },
        {
          "output_type": "stream",
          "name": "stdout",
          "text": [
            "\u001b[36m(train_func pid=51179)\u001b[0m /tmp/tmp888tk8xs/checkpoint.pt\n"
          ]
        },
        {
          "output_type": "stream",
          "name": "stderr",
          "text": [
            "\u001b[36m(train_func pid=51179)\u001b[0m Checkpoint successfully created at: Checkpoint(filesystem=local, path=/content/drive/MyDrive/ray_results/tune_analyzing_results/train_func_80fed_00000_0_batch_size=16,lr=0.0002_2024-05-07_14-38-43/checkpoint_000000)\n"
          ]
        },
        {
          "output_type": "stream",
          "name": "stdout",
          "text": [
            "\n",
            "Trial status: 1 RUNNING | 1 PENDING\n",
            "Current time: 2024-05-07 14:39:14. Total running time: 30s\n",
            "Logical resource usage: 4.0/8 CPUs, 1.0/1 GPUs (1.0/1.0 accelerator_type:T4)\n",
            "Current best trial: 80fed_00000 with val_loss=1.4132618308067322 and params={'lr': 0.0002385889256198421, 'batch_size': 16, 'epochs': 10, 'should_checkpoint': True}\n",
            "+---------------------------------------------------------------------------------------------------------------------------+\n",
            "| Trial name               status              lr     batch_size     acc     iter     total time (s)      loss     val_loss |\n",
            "+---------------------------------------------------------------------------------------------------------------------------+\n",
            "| train_func_80fed_00000   RUNNING    0.000238589             16     0.5        1            16.9425   4.31052      1.41326 |\n",
            "| train_func_80fed_00001   PENDING    0.000181062             64                                                            |\n",
            "+---------------------------------------------------------------------------------------------------------------------------+\n",
            "\u001b[36m(train_func pid=51179)\u001b[0m /tmp/tmpbos30y8h/checkpoint.pt\n"
          ]
        },
        {
          "output_type": "stream",
          "name": "stderr",
          "text": [
            "\u001b[36m(train_func pid=51179)\u001b[0m Checkpoint successfully created at: Checkpoint(filesystem=local, path=/content/drive/MyDrive/ray_results/tune_analyzing_results/train_func_80fed_00000_0_batch_size=16,lr=0.0002_2024-05-07_14-38-43/checkpoint_000001)\n"
          ]
        },
        {
          "output_type": "stream",
          "name": "stdout",
          "text": [
            "\u001b[36m(train_func pid=51179)\u001b[0m /tmp/tmpp47epn6z/checkpoint.pt\n"
          ]
        },
        {
          "output_type": "stream",
          "name": "stderr",
          "text": [
            "\u001b[36m(train_func pid=51179)\u001b[0m Checkpoint successfully created at: Checkpoint(filesystem=local, path=/content/drive/MyDrive/ray_results/tune_analyzing_results/train_func_80fed_00000_0_batch_size=16,lr=0.0002_2024-05-07_14-38-43/checkpoint_000002)\n"
          ]
        },
        {
          "output_type": "stream",
          "name": "stdout",
          "text": [
            "Trial status: 1 RUNNING | 1 PENDING\n",
            "Current time: 2024-05-07 14:39:44. Total running time: 1min 0s\n",
            "Logical resource usage: 4.0/8 CPUs, 1.0/1 GPUs (1.0/1.0 accelerator_type:T4)\n",
            "Current best trial: 80fed_00000 with val_loss=0.5033270865678787 and params={'lr': 0.0002385889256198421, 'batch_size': 16, 'epochs': 10, 'should_checkpoint': True}\n",
            "+-----------------------------------------------------------------------------------------------------------------------------+\n",
            "| Trial name               status              lr     batch_size      acc     iter     total time (s)       loss     val_loss |\n",
            "+-----------------------------------------------------------------------------------------------------------------------------+\n",
            "| train_func_80fed_00000   RUNNING    0.000238589             16   0.7375        3            49.8981   0.672756     0.503327 |\n",
            "| train_func_80fed_00001   PENDING    0.000181062             64                                                              |\n",
            "+-----------------------------------------------------------------------------------------------------------------------------+\n",
            "\u001b[36m(train_func pid=51179)\u001b[0m /tmp/tmpwu51fqh6/checkpoint.pt\n"
          ]
        },
        {
          "output_type": "stream",
          "name": "stderr",
          "text": [
            "\u001b[36m(train_func pid=51179)\u001b[0m Checkpoint successfully created at: Checkpoint(filesystem=local, path=/content/drive/MyDrive/ray_results/tune_analyzing_results/train_func_80fed_00000_0_batch_size=16,lr=0.0002_2024-05-07_14-38-43/checkpoint_000003)\n"
          ]
        },
        {
          "output_type": "stream",
          "name": "stdout",
          "text": [
            "\u001b[36m(train_func pid=51179)\u001b[0m /tmp/tmpjvgfysm4/checkpoint.pt\n"
          ]
        },
        {
          "output_type": "stream",
          "name": "stderr",
          "text": [
            "\u001b[36m(train_func pid=51179)\u001b[0m Checkpoint successfully created at: Checkpoint(filesystem=local, path=/content/drive/MyDrive/ray_results/tune_analyzing_results/train_func_80fed_00000_0_batch_size=16,lr=0.0002_2024-05-07_14-38-43/checkpoint_000004)\n"
          ]
        },
        {
          "output_type": "stream",
          "name": "stdout",
          "text": [
            "Trial status: 1 RUNNING | 1 PENDING\n",
            "Current time: 2024-05-07 14:40:14. Total running time: 1min 30s\n",
            "Logical resource usage: 4.0/8 CPUs, 1.0/1 GPUs (1.0/1.0 accelerator_type:T4)\n",
            "Current best trial: 80fed_00000 with val_loss=0.538155734539032 and params={'lr': 0.0002385889256198421, 'batch_size': 16, 'epochs': 10, 'should_checkpoint': True}\n",
            "+-----------------------------------------------------------------------------------------------------------------------------+\n",
            "| Trial name               status              lr     batch_size      acc     iter     total time (s)       loss     val_loss |\n",
            "+-----------------------------------------------------------------------------------------------------------------------------+\n",
            "| train_func_80fed_00000   RUNNING    0.000238589             16   0.6875        5            82.4267   0.533975     0.538156 |\n",
            "| train_func_80fed_00001   PENDING    0.000181062             64                                                              |\n",
            "+-----------------------------------------------------------------------------------------------------------------------------+\n",
            "\u001b[36m(train_func pid=51179)\u001b[0m /tmp/tmp6mtwu_z_/checkpoint.pt\n"
          ]
        },
        {
          "output_type": "stream",
          "name": "stderr",
          "text": [
            "\u001b[36m(train_func pid=51179)\u001b[0m Checkpoint successfully created at: Checkpoint(filesystem=local, path=/content/drive/MyDrive/ray_results/tune_analyzing_results/train_func_80fed_00000_0_batch_size=16,lr=0.0002_2024-05-07_14-38-43/checkpoint_000005)\n"
          ]
        },
        {
          "output_type": "stream",
          "name": "stdout",
          "text": [
            "\u001b[36m(train_func pid=51179)\u001b[0m /tmp/tmpzixfz_39/checkpoint.pt\n"
          ]
        },
        {
          "output_type": "stream",
          "name": "stderr",
          "text": [
            "\u001b[36m(train_func pid=51179)\u001b[0m Checkpoint successfully created at: Checkpoint(filesystem=local, path=/content/drive/MyDrive/ray_results/tune_analyzing_results/train_func_80fed_00000_0_batch_size=16,lr=0.0002_2024-05-07_14-38-43/checkpoint_000006)\n"
          ]
        },
        {
          "output_type": "stream",
          "name": "stdout",
          "text": [
            "Trial status: 1 RUNNING | 1 PENDING\n",
            "Current time: 2024-05-07 14:40:44. Total running time: 2min 0s\n",
            "Logical resource usage: 4.0/8 CPUs, 1.0/1 GPUs (1.0/1.0 accelerator_type:T4)\n",
            "Current best trial: 80fed_00000 with val_loss=0.3555372953414917 and params={'lr': 0.0002385889256198421, 'batch_size': 16, 'epochs': 10, 'should_checkpoint': True}\n",
            "+----------------------------------------------------------------------------------------------------------------------------+\n",
            "| Trial name               status              lr     batch_size      acc     iter     total time (s)      loss     val_loss |\n",
            "+----------------------------------------------------------------------------------------------------------------------------+\n",
            "| train_func_80fed_00000   RUNNING    0.000238589             16   0.8375        7            115.196   0.42692     0.355537 |\n",
            "| train_func_80fed_00001   PENDING    0.000181062             64                                                             |\n",
            "+----------------------------------------------------------------------------------------------------------------------------+\n",
            "\u001b[36m(train_func pid=51179)\u001b[0m /tmp/tmpjipr5ik6/checkpoint.pt\n"
          ]
        },
        {
          "output_type": "stream",
          "name": "stderr",
          "text": [
            "\u001b[36m(train_func pid=51179)\u001b[0m Checkpoint successfully created at: Checkpoint(filesystem=local, path=/content/drive/MyDrive/ray_results/tune_analyzing_results/train_func_80fed_00000_0_batch_size=16,lr=0.0002_2024-05-07_14-38-43/checkpoint_000007)\n"
          ]
        },
        {
          "output_type": "stream",
          "name": "stdout",
          "text": [
            "Trial status: 1 RUNNING | 1 PENDING\n",
            "Current time: 2024-05-07 14:41:14. Total running time: 2min 30s\n",
            "Logical resource usage: 4.0/8 CPUs, 1.0/1 GPUs (1.0/1.0 accelerator_type:T4)\n",
            "Current best trial: 80fed_00000 with val_loss=0.28569020330905914 and params={'lr': 0.0002385889256198421, 'batch_size': 16, 'epochs': 10, 'should_checkpoint': True}\n",
            "+----------------------------------------------------------------------------------------------------------------------------+\n",
            "| Trial name               status              lr     batch_size     acc     iter     total time (s)       loss     val_loss |\n",
            "+----------------------------------------------------------------------------------------------------------------------------+\n",
            "| train_func_80fed_00000   RUNNING    0.000238589             16     0.9        8            131.984   0.353265      0.28569 |\n",
            "| train_func_80fed_00001   PENDING    0.000181062             64                                                             |\n",
            "+----------------------------------------------------------------------------------------------------------------------------+\n",
            "\u001b[36m(train_func pid=51179)\u001b[0m /tmp/tmpa71472ly/checkpoint.pt\n"
          ]
        },
        {
          "output_type": "stream",
          "name": "stderr",
          "text": [
            "\u001b[36m(train_func pid=51179)\u001b[0m Checkpoint successfully created at: Checkpoint(filesystem=local, path=/content/drive/MyDrive/ray_results/tune_analyzing_results/train_func_80fed_00000_0_batch_size=16,lr=0.0002_2024-05-07_14-38-43/checkpoint_000008)\n"
          ]
        },
        {
          "output_type": "stream",
          "name": "stdout",
          "text": [
            "\u001b[36m(train_func pid=51179)\u001b[0m /tmp/tmpua2ssp3v/checkpoint.pt\n",
            "\n",
            "Trial train_func_80fed_00000 completed after 10 iterations at 2024-05-07 14:41:33. Total running time: 2min 50s\n",
            "+-----------------------------------------------------------+\n",
            "| Trial train_func_80fed_00000 result                       |\n",
            "+-----------------------------------------------------------+\n",
            "| checkpoint_dir_name                     checkpoint_000009 |\n",
            "| time_this_iter_s                                  16.5031 |\n",
            "| time_total_s                                    165.20917 |\n",
            "| training_iteration                                     10 |\n",
            "| loss                                              0.22066 |\n",
            "| mean_accuracy                                       0.925 |\n",
            "| val_loss                                          0.14901 |\n",
            "+-----------------------------------------------------------+\n"
          ]
        },
        {
          "output_type": "stream",
          "name": "stderr",
          "text": [
            "\u001b[36m(train_func pid=51179)\u001b[0m Checkpoint successfully created at: Checkpoint(filesystem=local, path=/content/drive/MyDrive/ray_results/tune_analyzing_results/train_func_80fed_00000_0_batch_size=16,lr=0.0002_2024-05-07_14-38-43/checkpoint_000009)\n"
          ]
        },
        {
          "output_type": "stream",
          "name": "stdout",
          "text": [
            "\n",
            "Trial train_func_80fed_00001 started with configuration:\n",
            "+-------------------------------------------------+\n",
            "| Trial train_func_80fed_00001 config             |\n",
            "+-------------------------------------------------+\n",
            "| batch_size                                   64 |\n",
            "| epochs                                       10 |\n",
            "| lr                                      0.00018 |\n",
            "| should_checkpoint                             1 |\n",
            "+-------------------------------------------------+\n"
          ]
        },
        {
          "output_type": "stream",
          "name": "stderr",
          "text": [
            "\u001b[36m(train_func pid=52200)\u001b[0m /usr/lib/python3.10/multiprocessing/popen_fork.py:66: RuntimeWarning: os.fork() was called. os.fork() is incompatible with multithreaded code, and JAX is multithreaded, so this will likely lead to a deadlock.\n",
            "\u001b[36m(train_func pid=52200)\u001b[0m   self.pid = os.fork()\n"
          ]
        },
        {
          "output_type": "stream",
          "name": "stdout",
          "text": [
            "\n",
            "Trial status: 1 TERMINATED | 1 RUNNING | 1 PENDING\n",
            "Current time: 2024-05-07 14:41:44. Total running time: 3min 0s\n",
            "Logical resource usage: 4.0/8 CPUs, 1.0/1 GPUs (1.0/1.0 accelerator_type:T4)\n",
            "Current best trial: 80fed_00000 with val_loss=0.1490136757493019 and params={'lr': 0.0002385889256198421, 'batch_size': 16, 'epochs': 10, 'should_checkpoint': True}\n",
            "+------------------------------------------------------------------------------------------------------------------------------+\n",
            "| Trial name               status                lr     batch_size     acc     iter     total time (s)       loss     val_loss |\n",
            "+------------------------------------------------------------------------------------------------------------------------------+\n",
            "| train_func_80fed_00001   RUNNING      0.000181062             64                                                             |\n",
            "| train_func_80fed_00000   TERMINATED   0.000238589             16   0.925       10            165.209   0.220661     0.149014 |\n",
            "| train_func_80fed_00002   PENDING      0.000139915             64                                                             |\n",
            "+------------------------------------------------------------------------------------------------------------------------------+\n",
            "\u001b[36m(train_func pid=52200)\u001b[0m /tmp/tmp3f3n7xlw/checkpoint.pt\n"
          ]
        },
        {
          "output_type": "stream",
          "name": "stderr",
          "text": [
            "\u001b[36m(train_func pid=52200)\u001b[0m Checkpoint successfully created at: Checkpoint(filesystem=local, path=/content/drive/MyDrive/ray_results/tune_analyzing_results/train_func_80fed_00001_1_batch_size=64,lr=0.0002_2024-05-07_14-38-43/checkpoint_000000)\n"
          ]
        },
        {
          "output_type": "stream",
          "name": "stdout",
          "text": [
            "\u001b[36m(train_func pid=52200)\u001b[0m /tmp/tmpn5ndyegw/checkpoint.pt\n"
          ]
        },
        {
          "output_type": "stream",
          "name": "stderr",
          "text": [
            "\u001b[36m(train_func pid=52200)\u001b[0m Checkpoint successfully created at: Checkpoint(filesystem=local, path=/content/drive/MyDrive/ray_results/tune_analyzing_results/train_func_80fed_00001_1_batch_size=64,lr=0.0002_2024-05-07_14-38-43/checkpoint_000001)\n"
          ]
        },
        {
          "output_type": "stream",
          "name": "stdout",
          "text": [
            "Trial status: 1 TERMINATED | 1 RUNNING | 1 PENDING\n",
            "Current time: 2024-05-07 14:42:14. Total running time: 3min 30s\n",
            "Logical resource usage: 4.0/8 CPUs, 1.0/1 GPUs (1.0/1.0 accelerator_type:T4)\n",
            "Current best trial: 80fed_00000 with val_loss=0.1490136757493019 and params={'lr': 0.0002385889256198421, 'batch_size': 16, 'epochs': 10, 'should_checkpoint': True}\n",
            "+-------------------------------------------------------------------------------------------------------------------------------+\n",
            "| Trial name               status                lr     batch_size      acc     iter     total time (s)       loss     val_loss |\n",
            "+-------------------------------------------------------------------------------------------------------------------------------+\n",
            "| train_func_80fed_00001   RUNNING      0.000181062             64   0.6125        2             32.483   0.848608     0.565333 |\n",
            "| train_func_80fed_00000   TERMINATED   0.000238589             16   0.925        10            165.209   0.220661     0.149014 |\n",
            "| train_func_80fed_00002   PENDING      0.000139915             64                                                              |\n",
            "+-------------------------------------------------------------------------------------------------------------------------------+\n",
            "\u001b[36m(train_func pid=52200)\u001b[0m /tmp/tmpxwf6mmd4/checkpoint.pt\n"
          ]
        },
        {
          "output_type": "stream",
          "name": "stderr",
          "text": [
            "\u001b[36m(train_func pid=52200)\u001b[0m Checkpoint successfully created at: Checkpoint(filesystem=local, path=/content/drive/MyDrive/ray_results/tune_analyzing_results/train_func_80fed_00001_1_batch_size=64,lr=0.0002_2024-05-07_14-38-43/checkpoint_000002)\n"
          ]
        },
        {
          "output_type": "stream",
          "name": "stdout",
          "text": [
            "\u001b[36m(train_func pid=52200)\u001b[0m /tmp/tmpizqlpuf2/checkpoint.pt\n"
          ]
        },
        {
          "output_type": "stream",
          "name": "stderr",
          "text": [
            "\u001b[36m(train_func pid=52200)\u001b[0m Checkpoint successfully created at: Checkpoint(filesystem=local, path=/content/drive/MyDrive/ray_results/tune_analyzing_results/train_func_80fed_00001_1_batch_size=64,lr=0.0002_2024-05-07_14-38-43/checkpoint_000003)\n"
          ]
        },
        {
          "output_type": "stream",
          "name": "stdout",
          "text": [
            "Trial status: 1 TERMINATED | 1 RUNNING | 1 PENDING\n",
            "Current time: 2024-05-07 14:42:44. Total running time: 4min 0s\n",
            "Logical resource usage: 4.0/8 CPUs, 1.0/1 GPUs (1.0/1.0 accelerator_type:T4)\n",
            "Current best trial: 80fed_00000 with val_loss=0.1490136757493019 and params={'lr': 0.0002385889256198421, 'batch_size': 16, 'epochs': 10, 'should_checkpoint': True}\n",
            "+-------------------------------------------------------------------------------------------------------------------------------+\n",
            "| Trial name               status                lr     batch_size      acc     iter     total time (s)       loss     val_loss |\n",
            "+-------------------------------------------------------------------------------------------------------------------------------+\n",
            "| train_func_80fed_00001   RUNNING      0.000181062             64   0.7625        4            64.4623   0.471612     0.440452 |\n",
            "| train_func_80fed_00000   TERMINATED   0.000238589             16   0.925        10           165.209    0.220661     0.149014 |\n",
            "| train_func_80fed_00002   PENDING      0.000139915             64                                                              |\n",
            "+-------------------------------------------------------------------------------------------------------------------------------+\n",
            "\u001b[36m(train_func pid=52200)\u001b[0m /tmp/tmpzn7xeg9s/checkpoint.pt\n"
          ]
        },
        {
          "output_type": "stream",
          "name": "stderr",
          "text": [
            "\u001b[36m(train_func pid=52200)\u001b[0m Checkpoint successfully created at: Checkpoint(filesystem=local, path=/content/drive/MyDrive/ray_results/tune_analyzing_results/train_func_80fed_00001_1_batch_size=64,lr=0.0002_2024-05-07_14-38-43/checkpoint_000004)\n"
          ]
        },
        {
          "output_type": "stream",
          "name": "stdout",
          "text": [
            "Trial status: 1 TERMINATED | 1 RUNNING | 1 PENDING\n",
            "Current time: 2024-05-07 14:43:14. Total running time: 4min 30s\n",
            "Logical resource usage: 4.0/8 CPUs, 1.0/1 GPUs (1.0/1.0 accelerator_type:T4)\n",
            "Current best trial: 80fed_00000 with val_loss=0.1490136757493019 and params={'lr': 0.0002385889256198421, 'batch_size': 16, 'epochs': 10, 'should_checkpoint': True}\n",
            "+-------------------------------------------------------------------------------------------------------------------------------+\n",
            "| Trial name               status                lr     batch_size      acc     iter     total time (s)       loss     val_loss |\n",
            "+-------------------------------------------------------------------------------------------------------------------------------+\n",
            "| train_func_80fed_00001   RUNNING      0.000181062             64   0.9125        5            80.9802   0.367383     0.305864 |\n",
            "| train_func_80fed_00000   TERMINATED   0.000238589             16   0.925        10           165.209    0.220661     0.149014 |\n",
            "| train_func_80fed_00002   PENDING      0.000139915             64                                                              |\n",
            "+-------------------------------------------------------------------------------------------------------------------------------+\n",
            "\u001b[36m(train_func pid=52200)\u001b[0m /tmp/tmp_1i12ef0/checkpoint.pt\n"
          ]
        },
        {
          "output_type": "stream",
          "name": "stderr",
          "text": [
            "\u001b[36m(train_func pid=52200)\u001b[0m Checkpoint successfully created at: Checkpoint(filesystem=local, path=/content/drive/MyDrive/ray_results/tune_analyzing_results/train_func_80fed_00001_1_batch_size=64,lr=0.0002_2024-05-07_14-38-43/checkpoint_000005)\n"
          ]
        },
        {
          "output_type": "stream",
          "name": "stdout",
          "text": [
            "\u001b[36m(train_func pid=52200)\u001b[0m /tmp/tmp0qecw17h/checkpoint.pt\n"
          ]
        },
        {
          "output_type": "stream",
          "name": "stderr",
          "text": [
            "\u001b[36m(train_func pid=52200)\u001b[0m Checkpoint successfully created at: Checkpoint(filesystem=local, path=/content/drive/MyDrive/ray_results/tune_analyzing_results/train_func_80fed_00001_1_batch_size=64,lr=0.0002_2024-05-07_14-38-43/checkpoint_000006)\n",
            "2024-05-07 14:43:35,338\tWARNING util.py:201 -- The `process_trial_save` operation took 1.709 s, which may be a performance bottleneck.\n"
          ]
        },
        {
          "output_type": "stream",
          "name": "stdout",
          "text": [
            "Trial status: 1 TERMINATED | 1 RUNNING | 1 PENDING\n",
            "Current time: 2024-05-07 14:43:44. Total running time: 5min 0s\n",
            "Logical resource usage: 4.0/8 CPUs, 1.0/1 GPUs (1.0/1.0 accelerator_type:T4)\n",
            "Current best trial: 80fed_00000 with val_loss=0.1490136757493019 and params={'lr': 0.0002385889256198421, 'batch_size': 16, 'epochs': 10, 'should_checkpoint': True}\n",
            "+------------------------------------------------------------------------------------------------------------------------------+\n",
            "| Trial name               status                lr     batch_size     acc     iter     total time (s)       loss     val_loss |\n",
            "+------------------------------------------------------------------------------------------------------------------------------+\n",
            "| train_func_80fed_00001   RUNNING      0.000181062             64   0.95         7            114.14    0.283061     0.191197 |\n",
            "| train_func_80fed_00000   TERMINATED   0.000238589             16   0.925       10            165.209   0.220661     0.149014 |\n",
            "| train_func_80fed_00002   PENDING      0.000139915             64                                                             |\n",
            "+------------------------------------------------------------------------------------------------------------------------------+\n",
            "\u001b[36m(train_func pid=52200)\u001b[0m /tmp/tmpt9ee8ybs/checkpoint.pt\n"
          ]
        },
        {
          "output_type": "stream",
          "name": "stderr",
          "text": [
            "\u001b[36m(train_func pid=52200)\u001b[0m Checkpoint successfully created at: Checkpoint(filesystem=local, path=/content/drive/MyDrive/ray_results/tune_analyzing_results/train_func_80fed_00001_1_batch_size=64,lr=0.0002_2024-05-07_14-38-43/checkpoint_000007)\n"
          ]
        },
        {
          "output_type": "stream",
          "name": "stdout",
          "text": [
            "\u001b[36m(train_func pid=52200)\u001b[0m /tmp/tmptbax6wnh/checkpoint.pt\n"
          ]
        },
        {
          "output_type": "stream",
          "name": "stderr",
          "text": [
            "\u001b[36m(train_func pid=52200)\u001b[0m Checkpoint successfully created at: Checkpoint(filesystem=local, path=/content/drive/MyDrive/ray_results/tune_analyzing_results/train_func_80fed_00001_1_batch_size=64,lr=0.0002_2024-05-07_14-38-43/checkpoint_000008)\n"
          ]
        },
        {
          "output_type": "stream",
          "name": "stdout",
          "text": [
            "Trial status: 1 TERMINATED | 1 RUNNING | 1 PENDING\n",
            "Current time: 2024-05-07 14:44:14. Total running time: 5min 30s\n",
            "Logical resource usage: 4.0/8 CPUs, 1.0/1 GPUs (1.0/1.0 accelerator_type:T4)\n",
            "Current best trial: 80fed_00000 with val_loss=0.1490136757493019 and params={'lr': 0.0002385889256198421, 'batch_size': 16, 'epochs': 10, 'should_checkpoint': True}\n",
            "+-------------------------------------------------------------------------------------------------------------------------------+\n",
            "| Trial name               status                lr     batch_size      acc     iter     total time (s)       loss     val_loss |\n",
            "+-------------------------------------------------------------------------------------------------------------------------------+\n",
            "| train_func_80fed_00001   RUNNING      0.000181062             64   0.9375        9            145.591   0.250894     0.201841 |\n",
            "| train_func_80fed_00000   TERMINATED   0.000238589             16   0.925        10            165.209   0.220661     0.149014 |\n",
            "| train_func_80fed_00002   PENDING      0.000139915             64                                                              |\n",
            "+-------------------------------------------------------------------------------------------------------------------------------+\n",
            "\u001b[36m(train_func pid=52200)\u001b[0m /tmp/tmptsg7a969/checkpoint.pt\n",
            "\n",
            "Trial train_func_80fed_00001 completed after 10 iterations at 2024-05-07 14:44:22. Total running time: 5min 39s\n",
            "+-----------------------------------------------------------+\n",
            "| Trial train_func_80fed_00001 result                       |\n",
            "+-----------------------------------------------------------+\n",
            "| checkpoint_dir_name                     checkpoint_000009 |\n",
            "| time_this_iter_s                                 15.90453 |\n",
            "| time_total_s                                    161.49512 |\n",
            "| training_iteration                                     10 |\n",
            "| loss                                               0.1603 |\n",
            "| mean_accuracy                                       0.925 |\n",
            "| val_loss                                          0.18821 |\n",
            "+-----------------------------------------------------------+\n"
          ]
        },
        {
          "output_type": "stream",
          "name": "stderr",
          "text": [
            "\u001b[36m(train_func pid=52200)\u001b[0m Checkpoint successfully created at: Checkpoint(filesystem=local, path=/content/drive/MyDrive/ray_results/tune_analyzing_results/train_func_80fed_00001_1_batch_size=64,lr=0.0002_2024-05-07_14-38-43/checkpoint_000009)\n"
          ]
        },
        {
          "output_type": "stream",
          "name": "stdout",
          "text": [
            "\n",
            "Trial train_func_80fed_00002 started with configuration:\n",
            "+-------------------------------------------------+\n",
            "| Trial train_func_80fed_00002 config             |\n",
            "+-------------------------------------------------+\n",
            "| batch_size                                   64 |\n",
            "| epochs                                       10 |\n",
            "| lr                                      0.00014 |\n",
            "| should_checkpoint                             1 |\n",
            "+-------------------------------------------------+\n"
          ]
        },
        {
          "output_type": "stream",
          "name": "stderr",
          "text": [
            "\u001b[36m(train_func pid=53217)\u001b[0m /usr/lib/python3.10/multiprocessing/popen_fork.py:66: RuntimeWarning: os.fork() was called. os.fork() is incompatible with multithreaded code, and JAX is multithreaded, so this will likely lead to a deadlock.\n",
            "\u001b[36m(train_func pid=53217)\u001b[0m   self.pid = os.fork()\n"
          ]
        },
        {
          "output_type": "stream",
          "name": "stdout",
          "text": [
            "\n",
            "Trial status: 2 TERMINATED | 1 RUNNING | 1 PENDING\n",
            "Current time: 2024-05-07 14:44:44. Total running time: 6min 1s\n",
            "Logical resource usage: 4.0/8 CPUs, 1.0/1 GPUs (1.0/1.0 accelerator_type:T4)\n",
            "Current best trial: 80fed_00000 with val_loss=0.1490136757493019 and params={'lr': 0.0002385889256198421, 'batch_size': 16, 'epochs': 10, 'should_checkpoint': True}\n",
            "+------------------------------------------------------------------------------------------------------------------------------+\n",
            "| Trial name               status                lr     batch_size     acc     iter     total time (s)       loss     val_loss |\n",
            "+------------------------------------------------------------------------------------------------------------------------------+\n",
            "| train_func_80fed_00002   RUNNING      0.000139915             64                                                             |\n",
            "| train_func_80fed_00000   TERMINATED   0.000238589             16   0.925       10            165.209   0.220661     0.149014 |\n",
            "| train_func_80fed_00001   TERMINATED   0.000181062             64   0.925       10            161.495   0.160299     0.188214 |\n",
            "| train_func_80fed_00003   PENDING      0.000105564             64                                                             |\n",
            "+------------------------------------------------------------------------------------------------------------------------------+\n",
            "\u001b[36m(train_func pid=53217)\u001b[0m /tmp/tmprotxx1dx/checkpoint.pt\n",
            "\n",
            "Trial train_func_80fed_00002 completed after 1 iterations at 2024-05-07 14:44:46. Total running time: 6min 2s\n",
            "+-----------------------------------------------------------+\n",
            "| Trial train_func_80fed_00002 result                       |\n",
            "+-----------------------------------------------------------+\n",
            "| checkpoint_dir_name                     checkpoint_000000 |\n",
            "| time_this_iter_s                                 16.80601 |\n",
            "| time_total_s                                     16.80601 |\n",
            "| training_iteration                                      1 |\n",
            "| loss                                              3.69056 |\n",
            "| mean_accuracy                                         0.5 |\n",
            "| val_loss                                          2.13236 |\n",
            "+-----------------------------------------------------------+\n"
          ]
        },
        {
          "output_type": "stream",
          "name": "stderr",
          "text": [
            "\u001b[36m(train_func pid=53217)\u001b[0m Checkpoint successfully created at: Checkpoint(filesystem=local, path=/content/drive/MyDrive/ray_results/tune_analyzing_results/train_func_80fed_00002_2_batch_size=64,lr=0.0001_2024-05-07_14-41-33/checkpoint_000000)\n"
          ]
        },
        {
          "output_type": "stream",
          "name": "stdout",
          "text": [
            "\n",
            "Trial train_func_80fed_00003 started with configuration:\n",
            "+-------------------------------------------------+\n",
            "| Trial train_func_80fed_00003 config             |\n",
            "+-------------------------------------------------+\n",
            "| batch_size                                   64 |\n",
            "| epochs                                       10 |\n",
            "| lr                                      0.00011 |\n",
            "| should_checkpoint                             1 |\n",
            "+-------------------------------------------------+\n"
          ]
        },
        {
          "output_type": "stream",
          "name": "stderr",
          "text": [
            "\u001b[36m(train_func pid=53393)\u001b[0m /usr/lib/python3.10/multiprocessing/popen_fork.py:66: RuntimeWarning: os.fork() was called. os.fork() is incompatible with multithreaded code, and JAX is multithreaded, so this will likely lead to a deadlock.\n",
            "\u001b[36m(train_func pid=53393)\u001b[0m   self.pid = os.fork()\n"
          ]
        },
        {
          "output_type": "stream",
          "name": "stdout",
          "text": [
            "\u001b[36m(train_func pid=53393)\u001b[0m /tmp/tmp8i2vtrkj/checkpoint.pt\n"
          ]
        },
        {
          "output_type": "stream",
          "name": "stderr",
          "text": [
            "\u001b[36m(train_func pid=53393)\u001b[0m Checkpoint successfully created at: Checkpoint(filesystem=local, path=/content/drive/MyDrive/ray_results/tune_analyzing_results/train_func_80fed_00003_3_batch_size=64,lr=0.0001_2024-05-07_14-44-22/checkpoint_000000)\n"
          ]
        },
        {
          "output_type": "stream",
          "name": "stdout",
          "text": [
            "\n",
            "Trial status: 3 TERMINATED | 1 RUNNING | 1 PENDING\n",
            "Current time: 2024-05-07 14:45:14. Total running time: 6min 31s\n",
            "Logical resource usage: 4.0/8 CPUs, 1.0/1 GPUs (1.0/1.0 accelerator_type:T4)\n",
            "Current best trial: 80fed_00000 with val_loss=0.1490136757493019 and params={'lr': 0.0002385889256198421, 'batch_size': 16, 'epochs': 10, 'should_checkpoint': True}\n",
            "+------------------------------------------------------------------------------------------------------------------------------+\n",
            "| Trial name               status                lr     batch_size     acc     iter     total time (s)       loss     val_loss |\n",
            "+------------------------------------------------------------------------------------------------------------------------------+\n",
            "| train_func_80fed_00003   RUNNING      0.000105564             64   0.5          1            17.1223   3.0594       1.31941  |\n",
            "| train_func_80fed_00000   TERMINATED   0.000238589             16   0.925       10           165.209    0.220661     0.149014 |\n",
            "| train_func_80fed_00001   TERMINATED   0.000181062             64   0.925       10           161.495    0.160299     0.188214 |\n",
            "| train_func_80fed_00002   TERMINATED   0.000139915             64   0.5          1            16.806    3.69056      2.13236  |\n",
            "| train_func_80fed_00004   PENDING      0.000266648             32                                                             |\n",
            "+------------------------------------------------------------------------------------------------------------------------------+\n",
            "\u001b[36m(train_func pid=53393)\u001b[0m /tmp/tmphdm73x1x/checkpoint.pt\n"
          ]
        },
        {
          "output_type": "stream",
          "name": "stderr",
          "text": [
            "\u001b[36m(train_func pid=53393)\u001b[0m Checkpoint successfully created at: Checkpoint(filesystem=local, path=/content/drive/MyDrive/ray_results/tune_analyzing_results/train_func_80fed_00003_3_batch_size=64,lr=0.0001_2024-05-07_14-44-22/checkpoint_000001)\n"
          ]
        },
        {
          "output_type": "stream",
          "name": "stdout",
          "text": [
            "\u001b[36m(train_func pid=53393)\u001b[0m /tmp/tmp0ksz6skn/checkpoint.pt\n"
          ]
        },
        {
          "output_type": "stream",
          "name": "stderr",
          "text": [
            "\u001b[36m(train_func pid=53393)\u001b[0m Checkpoint successfully created at: Checkpoint(filesystem=local, path=/content/drive/MyDrive/ray_results/tune_analyzing_results/train_func_80fed_00003_3_batch_size=64,lr=0.0001_2024-05-07_14-44-22/checkpoint_000002)\n"
          ]
        },
        {
          "output_type": "stream",
          "name": "stdout",
          "text": [
            "Trial status: 3 TERMINATED | 1 RUNNING | 1 PENDING\n",
            "Current time: 2024-05-07 14:45:44. Total running time: 7min 1s\n",
            "Logical resource usage: 4.0/8 CPUs, 1.0/1 GPUs (1.0/1.0 accelerator_type:T4)\n",
            "Current best trial: 80fed_00003 with val_loss=0.12838029116392136 and params={'lr': 0.00010556379497097863, 'batch_size': 64, 'epochs': 10, 'should_checkpoint': True}\n",
            "+-------------------------------------------------------------------------------------------------------------------------------+\n",
            "| Trial name               status                lr     batch_size      acc     iter     total time (s)       loss     val_loss |\n",
            "+-------------------------------------------------------------------------------------------------------------------------------+\n",
            "| train_func_80fed_00003   RUNNING      0.000105564             64   0.9625        3            52.0013   0.204483     0.12838  |\n",
            "| train_func_80fed_00000   TERMINATED   0.000238589             16   0.925        10           165.209    0.220661     0.149014 |\n",
            "| train_func_80fed_00001   TERMINATED   0.000181062             64   0.925        10           161.495    0.160299     0.188214 |\n",
            "| train_func_80fed_00002   TERMINATED   0.000139915             64   0.5           1            16.806    3.69056      2.13236  |\n",
            "| train_func_80fed_00004   PENDING      0.000266648             32                                                              |\n",
            "+-------------------------------------------------------------------------------------------------------------------------------+\n",
            "\u001b[36m(train_func pid=53393)\u001b[0m /tmp/tmphruezpy9/checkpoint.pt\n"
          ]
        },
        {
          "output_type": "stream",
          "name": "stderr",
          "text": [
            "\u001b[36m(train_func pid=53393)\u001b[0m Checkpoint successfully created at: Checkpoint(filesystem=local, path=/content/drive/MyDrive/ray_results/tune_analyzing_results/train_func_80fed_00003_3_batch_size=64,lr=0.0001_2024-05-07_14-44-22/checkpoint_000003)\n"
          ]
        },
        {
          "output_type": "stream",
          "name": "stdout",
          "text": [
            "\u001b[36m(train_func pid=53393)\u001b[0m /tmp/tmpxgecb3kh/checkpoint.pt\n"
          ]
        },
        {
          "output_type": "stream",
          "name": "stderr",
          "text": [
            "\u001b[36m(train_func pid=53393)\u001b[0m Checkpoint successfully created at: Checkpoint(filesystem=local, path=/content/drive/MyDrive/ray_results/tune_analyzing_results/train_func_80fed_00003_3_batch_size=64,lr=0.0001_2024-05-07_14-44-22/checkpoint_000004)\n"
          ]
        },
        {
          "output_type": "stream",
          "name": "stdout",
          "text": [
            "Trial status: 3 TERMINATED | 1 RUNNING | 1 PENDING\n",
            "Current time: 2024-05-07 14:46:14. Total running time: 7min 31s\n",
            "Logical resource usage: 4.0/8 CPUs, 1.0/1 GPUs (1.0/1.0 accelerator_type:T4)\n",
            "Current best trial: 80fed_00003 with val_loss=0.02506662509404123 and params={'lr': 0.00010556379497097863, 'batch_size': 64, 'epochs': 10, 'should_checkpoint': True}\n",
            "+-------------------------------------------------------------------------------------------------------------------------------+\n",
            "| Trial name               status                lr     batch_size     acc     iter     total time (s)        loss     val_loss |\n",
            "+-------------------------------------------------------------------------------------------------------------------------------+\n",
            "| train_func_80fed_00003   RUNNING      0.000105564             64   0.975        5            83.4495   0.0416088    0.0250666 |\n",
            "| train_func_80fed_00000   TERMINATED   0.000238589             16   0.925       10           165.209    0.220661     0.149014  |\n",
            "| train_func_80fed_00001   TERMINATED   0.000181062             64   0.925       10           161.495    0.160299     0.188214  |\n",
            "| train_func_80fed_00002   TERMINATED   0.000139915             64   0.5          1            16.806    3.69056      2.13236   |\n",
            "| train_func_80fed_00004   PENDING      0.000266648             32                                                              |\n",
            "+-------------------------------------------------------------------------------------------------------------------------------+\n",
            "\u001b[36m(train_func pid=53393)\u001b[0m /tmp/tmpx1lbei25/checkpoint.pt\n"
          ]
        },
        {
          "output_type": "stream",
          "name": "stderr",
          "text": [
            "\u001b[36m(train_func pid=53393)\u001b[0m Checkpoint successfully created at: Checkpoint(filesystem=local, path=/content/drive/MyDrive/ray_results/tune_analyzing_results/train_func_80fed_00003_3_batch_size=64,lr=0.0001_2024-05-07_14-44-22/checkpoint_000005)\n"
          ]
        },
        {
          "output_type": "stream",
          "name": "stdout",
          "text": [
            "Trial status: 3 TERMINATED | 1 RUNNING | 1 PENDING\n",
            "Current time: 2024-05-07 14:46:44. Total running time: 8min 1s\n",
            "Logical resource usage: 4.0/8 CPUs, 1.0/1 GPUs (1.0/1.0 accelerator_type:T4)\n",
            "Current best trial: 80fed_00003 with val_loss=0.04597894009202719 and params={'lr': 0.00010556379497097863, 'batch_size': 64, 'epochs': 10, 'should_checkpoint': True}\n",
            "+--------------------------------------------------------------------------------------------------------------------------------+\n",
            "| Trial name               status                lr     batch_size      acc     iter     total time (s)        loss     val_loss |\n",
            "+--------------------------------------------------------------------------------------------------------------------------------+\n",
            "| train_func_80fed_00003   RUNNING      0.000105564             64   0.9875        6            100.341   0.0322404    0.0459789 |\n",
            "| train_func_80fed_00000   TERMINATED   0.000238589             16   0.925        10            165.209   0.220661     0.149014  |\n",
            "| train_func_80fed_00001   TERMINATED   0.000181062             64   0.925        10            161.495   0.160299     0.188214  |\n",
            "| train_func_80fed_00002   TERMINATED   0.000139915             64   0.5           1             16.806   3.69056      2.13236   |\n",
            "| train_func_80fed_00004   PENDING      0.000266648             32                                                               |\n",
            "+--------------------------------------------------------------------------------------------------------------------------------+\n",
            "\u001b[36m(train_func pid=53393)\u001b[0m /tmp/tmpyy6pix63/checkpoint.pt\n"
          ]
        },
        {
          "output_type": "stream",
          "name": "stderr",
          "text": [
            "\u001b[36m(train_func pid=53393)\u001b[0m Checkpoint successfully created at: Checkpoint(filesystem=local, path=/content/drive/MyDrive/ray_results/tune_analyzing_results/train_func_80fed_00003_3_batch_size=64,lr=0.0001_2024-05-07_14-44-22/checkpoint_000006)\n"
          ]
        },
        {
          "output_type": "stream",
          "name": "stdout",
          "text": [
            "\u001b[36m(train_func pid=53393)\u001b[0m /tmp/tmpdmpj9emr/checkpoint.pt\n"
          ]
        },
        {
          "output_type": "stream",
          "name": "stderr",
          "text": [
            "\u001b[36m(train_func pid=53393)\u001b[0m Checkpoint successfully created at: Checkpoint(filesystem=local, path=/content/drive/MyDrive/ray_results/tune_analyzing_results/train_func_80fed_00003_3_batch_size=64,lr=0.0001_2024-05-07_14-44-22/checkpoint_000007)\n",
            "2024-05-07 14:47:07,048\tWARNING util.py:201 -- The `process_trial_save` operation took 1.752 s, which may be a performance bottleneck.\n"
          ]
        },
        {
          "output_type": "stream",
          "name": "stdout",
          "text": [
            "Trial status: 3 TERMINATED | 1 RUNNING | 1 PENDING\n",
            "Current time: 2024-05-07 14:47:14. Total running time: 8min 31s\n",
            "Logical resource usage: 4.0/8 CPUs, 1.0/1 GPUs (1.0/1.0 accelerator_type:T4)\n",
            "Current best trial: 80fed_00003 with val_loss=0.0009401812858413905 and params={'lr': 0.00010556379497097863, 'batch_size': 64, 'epochs': 10, 'should_checkpoint': True}\n",
            "+--------------------------------------------------------------------------------------------------------------------------------+\n",
            "| Trial name               status                lr     batch_size     acc     iter     total time (s)        loss      val_loss |\n",
            "+--------------------------------------------------------------------------------------------------------------------------------+\n",
            "| train_func_80fed_00003   RUNNING      0.000105564             64   1            8            133.917   0.0119403   0.000940181 |\n",
            "| train_func_80fed_00000   TERMINATED   0.000238589             16   0.925       10            165.209   0.220661    0.149014    |\n",
            "| train_func_80fed_00001   TERMINATED   0.000181062             64   0.925       10            161.495   0.160299    0.188214    |\n",
            "| train_func_80fed_00002   TERMINATED   0.000139915             64   0.5          1             16.806   3.69056     2.13236     |\n",
            "| train_func_80fed_00004   PENDING      0.000266648             32                                                               |\n",
            "+--------------------------------------------------------------------------------------------------------------------------------+\n",
            "\u001b[36m(train_func pid=53393)\u001b[0m /tmp/tmppbwhp4zy/checkpoint.pt\n"
          ]
        },
        {
          "output_type": "stream",
          "name": "stderr",
          "text": [
            "\u001b[36m(train_func pid=53393)\u001b[0m Checkpoint successfully created at: Checkpoint(filesystem=local, path=/content/drive/MyDrive/ray_results/tune_analyzing_results/train_func_80fed_00003_3_batch_size=64,lr=0.0001_2024-05-07_14-44-22/checkpoint_000008)\n"
          ]
        },
        {
          "output_type": "stream",
          "name": "stdout",
          "text": [
            "\u001b[36m(train_func pid=53393)\u001b[0m /tmp/tmphp9ccapr/checkpoint.pt\n"
          ]
        },
        {
          "output_type": "stream",
          "name": "stderr",
          "text": [
            "\u001b[36m(train_func pid=53393)\u001b[0m Checkpoint successfully created at: Checkpoint(filesystem=local, path=/content/drive/MyDrive/ray_results/tune_analyzing_results/train_func_80fed_00003_3_batch_size=64,lr=0.0001_2024-05-07_14-44-22/checkpoint_000009)\n"
          ]
        },
        {
          "output_type": "stream",
          "name": "stdout",
          "text": [
            "\n",
            "Trial train_func_80fed_00003 completed after 10 iterations at 2024-05-07 14:47:38. Total running time: 8min 54s\n",
            "+-----------------------------------------------------------+\n",
            "| Trial train_func_80fed_00003 result                       |\n",
            "+-----------------------------------------------------------+\n",
            "| checkpoint_dir_name                     checkpoint_000009 |\n",
            "| time_this_iter_s                                  16.2335 |\n",
            "| time_total_s                                    165.03242 |\n",
            "| training_iteration                                     10 |\n",
            "| loss                                              0.00542 |\n",
            "| mean_accuracy                                      0.9875 |\n",
            "| val_loss                                          0.05281 |\n",
            "+-----------------------------------------------------------+\n",
            "\n",
            "Trial train_func_80fed_00004 started with configuration:\n",
            "+-------------------------------------------------+\n",
            "| Trial train_func_80fed_00004 config             |\n",
            "+-------------------------------------------------+\n",
            "| batch_size                                   32 |\n",
            "| epochs                                       10 |\n",
            "| lr                                      0.00027 |\n",
            "| should_checkpoint                             1 |\n",
            "+-------------------------------------------------+\n",
            "\n",
            "Trial status: 4 TERMINATED | 1 RUNNING | 1 PENDING\n",
            "Current time: 2024-05-07 14:47:45. Total running time: 9min 1s\n",
            "Logical resource usage: 4.0/8 CPUs, 1.0/1 GPUs (1.0/1.0 accelerator_type:T4)\n",
            "Current best trial: 80fed_00003 with val_loss=0.05281481542624533 and params={'lr': 0.00010556379497097863, 'batch_size': 64, 'epochs': 10, 'should_checkpoint': True}\n",
            "+---------------------------------------------------------------------------------------------------------------------------------+\n",
            "| Trial name               status                lr     batch_size      acc     iter     total time (s)         loss     val_loss |\n",
            "+---------------------------------------------------------------------------------------------------------------------------------+\n",
            "| train_func_80fed_00004   RUNNING      0.000266648             32                                                                |\n",
            "| train_func_80fed_00000   TERMINATED   0.000238589             16   0.925        10            165.209   0.220661      0.149014  |\n",
            "| train_func_80fed_00001   TERMINATED   0.000181062             64   0.925        10            161.495   0.160299      0.188214  |\n",
            "| train_func_80fed_00002   TERMINATED   0.000139915             64   0.5           1             16.806   3.69056       2.13236   |\n",
            "| train_func_80fed_00003   TERMINATED   0.000105564             64   0.9875       10            165.032   0.00542249    0.0528148 |\n",
            "| train_func_80fed_00005   PENDING      0.000104581             32                                                                |\n",
            "+---------------------------------------------------------------------------------------------------------------------------------+\n"
          ]
        },
        {
          "output_type": "stream",
          "name": "stderr",
          "text": [
            "\u001b[36m(train_func pid=54418)\u001b[0m /usr/lib/python3.10/multiprocessing/popen_fork.py:66: RuntimeWarning: os.fork() was called. os.fork() is incompatible with multithreaded code, and JAX is multithreaded, so this will likely lead to a deadlock.\n",
            "\u001b[36m(train_func pid=54418)\u001b[0m   self.pid = os.fork()\n"
          ]
        },
        {
          "output_type": "stream",
          "name": "stdout",
          "text": [
            "\u001b[36m(train_func pid=54418)\u001b[0m /tmp/tmps1oqhv_6/checkpoint.pt\n"
          ]
        },
        {
          "output_type": "stream",
          "name": "stderr",
          "text": [
            "\u001b[36m(train_func pid=54418)\u001b[0m Checkpoint successfully created at: Checkpoint(filesystem=local, path=/content/drive/MyDrive/ray_results/tune_analyzing_results/train_func_80fed_00004_4_batch_size=32,lr=0.0003_2024-05-07_14-44-46/checkpoint_000000)\n"
          ]
        },
        {
          "output_type": "stream",
          "name": "stdout",
          "text": [
            "Trial status: 4 TERMINATED | 1 RUNNING | 1 PENDING\n",
            "Current time: 2024-05-07 14:48:15. Total running time: 9min 31s\n",
            "Logical resource usage: 4.0/8 CPUs, 1.0/1 GPUs (1.0/1.0 accelerator_type:T4)\n",
            "Current best trial: 80fed_00003 with val_loss=0.05281481542624533 and params={'lr': 0.00010556379497097863, 'batch_size': 64, 'epochs': 10, 'should_checkpoint': True}\n",
            "+---------------------------------------------------------------------------------------------------------------------------------+\n",
            "| Trial name               status                lr     batch_size      acc     iter     total time (s)         loss     val_loss |\n",
            "+---------------------------------------------------------------------------------------------------------------------------------+\n",
            "| train_func_80fed_00004   RUNNING      0.000266648             32   0.5           1            16.7276   4.03285       0.877797  |\n",
            "| train_func_80fed_00000   TERMINATED   0.000238589             16   0.925        10           165.209    0.220661      0.149014  |\n",
            "| train_func_80fed_00001   TERMINATED   0.000181062             64   0.925        10           161.495    0.160299      0.188214  |\n",
            "| train_func_80fed_00002   TERMINATED   0.000139915             64   0.5           1            16.806    3.69056       2.13236   |\n",
            "| train_func_80fed_00003   TERMINATED   0.000105564             64   0.9875       10           165.032    0.00542249    0.0528148 |\n",
            "| train_func_80fed_00005   PENDING      0.000104581             32                                                                |\n",
            "+---------------------------------------------------------------------------------------------------------------------------------+\n",
            "\u001b[36m(train_func pid=54418)\u001b[0m /tmp/tmp72woc3h9/checkpoint.pt\n"
          ]
        },
        {
          "output_type": "stream",
          "name": "stderr",
          "text": [
            "\u001b[36m(train_func pid=54418)\u001b[0m Checkpoint successfully created at: Checkpoint(filesystem=local, path=/content/drive/MyDrive/ray_results/tune_analyzing_results/train_func_80fed_00004_4_batch_size=32,lr=0.0003_2024-05-07_14-44-46/checkpoint_000001)\n"
          ]
        },
        {
          "output_type": "stream",
          "name": "stdout",
          "text": [
            "\u001b[36m(train_func pid=54418)\u001b[0m /tmp/tmpuk6m65ay/checkpoint.pt\n"
          ]
        },
        {
          "output_type": "stream",
          "name": "stderr",
          "text": [
            "\u001b[36m(train_func pid=54418)\u001b[0m Checkpoint successfully created at: Checkpoint(filesystem=local, path=/content/drive/MyDrive/ray_results/tune_analyzing_results/train_func_80fed_00004_4_batch_size=32,lr=0.0003_2024-05-07_14-44-46/checkpoint_000002)\n"
          ]
        },
        {
          "output_type": "stream",
          "name": "stdout",
          "text": [
            "Trial status: 4 TERMINATED | 1 RUNNING | 1 PENDING\n",
            "Current time: 2024-05-07 14:48:45. Total running time: 10min 1s\n",
            "Logical resource usage: 4.0/8 CPUs, 1.0/1 GPUs (1.0/1.0 accelerator_type:T4)\n",
            "Current best trial: 80fed_00003 with val_loss=0.05281481542624533 and params={'lr': 0.00010556379497097863, 'batch_size': 64, 'epochs': 10, 'should_checkpoint': True}\n",
            "+---------------------------------------------------------------------------------------------------------------------------------+\n",
            "| Trial name               status                lr     batch_size      acc     iter     total time (s)         loss     val_loss |\n",
            "+---------------------------------------------------------------------------------------------------------------------------------+\n",
            "| train_func_80fed_00004   RUNNING      0.000266648             32   0.675         3            51.4951   0.562656      0.547672  |\n",
            "| train_func_80fed_00000   TERMINATED   0.000238589             16   0.925        10           165.209    0.220661      0.149014  |\n",
            "| train_func_80fed_00001   TERMINATED   0.000181062             64   0.925        10           161.495    0.160299      0.188214  |\n",
            "| train_func_80fed_00002   TERMINATED   0.000139915             64   0.5           1            16.806    3.69056       2.13236   |\n",
            "| train_func_80fed_00003   TERMINATED   0.000105564             64   0.9875       10           165.032    0.00542249    0.0528148 |\n",
            "| train_func_80fed_00005   PENDING      0.000104581             32                                                                |\n",
            "+---------------------------------------------------------------------------------------------------------------------------------+\n",
            "\u001b[36m(train_func pid=54418)\u001b[0m /tmp/tmpu16_2vum/checkpoint.pt\n"
          ]
        },
        {
          "output_type": "stream",
          "name": "stderr",
          "text": [
            "\u001b[36m(train_func pid=54418)\u001b[0m Checkpoint successfully created at: Checkpoint(filesystem=local, path=/content/drive/MyDrive/ray_results/tune_analyzing_results/train_func_80fed_00004_4_batch_size=32,lr=0.0003_2024-05-07_14-44-46/checkpoint_000003)\n"
          ]
        },
        {
          "output_type": "stream",
          "name": "stdout",
          "text": [
            "\u001b[36m(train_func pid=54418)\u001b[0m /tmp/tmp567rnz30/checkpoint.pt\n"
          ]
        },
        {
          "output_type": "stream",
          "name": "stderr",
          "text": [
            "\u001b[36m(train_func pid=54418)\u001b[0m Checkpoint successfully created at: Checkpoint(filesystem=local, path=/content/drive/MyDrive/ray_results/tune_analyzing_results/train_func_80fed_00004_4_batch_size=32,lr=0.0003_2024-05-07_14-44-46/checkpoint_000004)\n"
          ]
        },
        {
          "output_type": "stream",
          "name": "stdout",
          "text": [
            "Trial status: 4 TERMINATED | 1 RUNNING | 1 PENDING\n",
            "Current time: 2024-05-07 14:49:15. Total running time: 10min 31s\n",
            "Logical resource usage: 4.0/8 CPUs, 1.0/1 GPUs (1.0/1.0 accelerator_type:T4)\n",
            "Current best trial: 80fed_00003 with val_loss=0.05281481542624533 and params={'lr': 0.00010556379497097863, 'batch_size': 64, 'epochs': 10, 'should_checkpoint': True}\n",
            "+---------------------------------------------------------------------------------------------------------------------------------+\n",
            "| Trial name               status                lr     batch_size      acc     iter     total time (s)         loss     val_loss |\n",
            "+---------------------------------------------------------------------------------------------------------------------------------+\n",
            "| train_func_80fed_00004   RUNNING      0.000266648             32   0.875         5            82.0359   0.382104      0.298752  |\n",
            "| train_func_80fed_00000   TERMINATED   0.000238589             16   0.925        10           165.209    0.220661      0.149014  |\n",
            "| train_func_80fed_00001   TERMINATED   0.000181062             64   0.925        10           161.495    0.160299      0.188214  |\n",
            "| train_func_80fed_00002   TERMINATED   0.000139915             64   0.5           1            16.806    3.69056       2.13236   |\n",
            "| train_func_80fed_00003   TERMINATED   0.000105564             64   0.9875       10           165.032    0.00542249    0.0528148 |\n",
            "| train_func_80fed_00005   PENDING      0.000104581             32                                                                |\n",
            "+---------------------------------------------------------------------------------------------------------------------------------+\n",
            "\u001b[36m(train_func pid=54418)\u001b[0m /tmp/tmpbykq2ivi/checkpoint.pt\n"
          ]
        },
        {
          "output_type": "stream",
          "name": "stderr",
          "text": [
            "\u001b[36m(train_func pid=54418)\u001b[0m Checkpoint successfully created at: Checkpoint(filesystem=local, path=/content/drive/MyDrive/ray_results/tune_analyzing_results/train_func_80fed_00004_4_batch_size=32,lr=0.0003_2024-05-07_14-44-46/checkpoint_000005)\n"
          ]
        },
        {
          "output_type": "stream",
          "name": "stdout",
          "text": [
            "\u001b[36m(train_func pid=54418)\u001b[0m /tmp/tmppddjzcf2/checkpoint.pt\n"
          ]
        },
        {
          "output_type": "stream",
          "name": "stderr",
          "text": [
            "\u001b[36m(train_func pid=54418)\u001b[0m Checkpoint successfully created at: Checkpoint(filesystem=local, path=/content/drive/MyDrive/ray_results/tune_analyzing_results/train_func_80fed_00004_4_batch_size=32,lr=0.0003_2024-05-07_14-44-46/checkpoint_000006)\n"
          ]
        },
        {
          "output_type": "stream",
          "name": "stdout",
          "text": [
            "Trial status: 4 TERMINATED | 1 RUNNING | 1 PENDING\n",
            "Current time: 2024-05-07 14:49:45. Total running time: 11min 1s\n",
            "Logical resource usage: 4.0/8 CPUs, 1.0/1 GPUs (1.0/1.0 accelerator_type:T4)\n",
            "Current best trial: 80fed_00003 with val_loss=0.05281481542624533 and params={'lr': 0.00010556379497097863, 'batch_size': 64, 'epochs': 10, 'should_checkpoint': True}\n",
            "+---------------------------------------------------------------------------------------------------------------------------------+\n",
            "| Trial name               status                lr     batch_size      acc     iter     total time (s)         loss     val_loss |\n",
            "+---------------------------------------------------------------------------------------------------------------------------------+\n",
            "| train_func_80fed_00004   RUNNING      0.000266648             32   0.8875        7            114.153   0.393843      0.31967   |\n",
            "| train_func_80fed_00000   TERMINATED   0.000238589             16   0.925        10            165.209   0.220661      0.149014  |\n",
            "| train_func_80fed_00001   TERMINATED   0.000181062             64   0.925        10            161.495   0.160299      0.188214  |\n",
            "| train_func_80fed_00002   TERMINATED   0.000139915             64   0.5           1             16.806   3.69056       2.13236   |\n",
            "| train_func_80fed_00003   TERMINATED   0.000105564             64   0.9875       10            165.032   0.00542249    0.0528148 |\n",
            "| train_func_80fed_00005   PENDING      0.000104581             32                                                                |\n",
            "+---------------------------------------------------------------------------------------------------------------------------------+\n",
            "\u001b[36m(train_func pid=54418)\u001b[0m /tmp/tmpetgkmsj2/checkpoint.pt\n"
          ]
        },
        {
          "output_type": "stream",
          "name": "stderr",
          "text": [
            "\u001b[36m(train_func pid=54418)\u001b[0m Checkpoint successfully created at: Checkpoint(filesystem=local, path=/content/drive/MyDrive/ray_results/tune_analyzing_results/train_func_80fed_00004_4_batch_size=32,lr=0.0003_2024-05-07_14-44-46/checkpoint_000007)\n"
          ]
        },
        {
          "output_type": "stream",
          "name": "stdout",
          "text": [
            "\u001b[36m(train_func pid=54418)\u001b[0m /tmp/tmp1u2jhxf2/checkpoint.pt\n"
          ]
        },
        {
          "output_type": "stream",
          "name": "stderr",
          "text": [
            "\u001b[36m(train_func pid=54418)\u001b[0m Checkpoint successfully created at: Checkpoint(filesystem=local, path=/content/drive/MyDrive/ray_results/tune_analyzing_results/train_func_80fed_00004_4_batch_size=32,lr=0.0003_2024-05-07_14-44-46/checkpoint_000008)\n"
          ]
        },
        {
          "output_type": "stream",
          "name": "stdout",
          "text": [
            "Trial status: 4 TERMINATED | 1 RUNNING | 1 PENDING\n",
            "Current time: 2024-05-07 14:50:15. Total running time: 11min 31s\n",
            "Logical resource usage: 4.0/8 CPUs, 1.0/1 GPUs (1.0/1.0 accelerator_type:T4)\n",
            "Current best trial: 80fed_00003 with val_loss=0.05281481542624533 and params={'lr': 0.00010556379497097863, 'batch_size': 64, 'epochs': 10, 'should_checkpoint': True}\n",
            "+---------------------------------------------------------------------------------------------------------------------------------+\n",
            "| Trial name               status                lr     batch_size      acc     iter     total time (s)         loss     val_loss |\n",
            "+---------------------------------------------------------------------------------------------------------------------------------+\n",
            "| train_func_80fed_00004   RUNNING      0.000266648             32   0.875         9            147.878   0.184499      0.293247  |\n",
            "| train_func_80fed_00000   TERMINATED   0.000238589             16   0.925        10            165.209   0.220661      0.149014  |\n",
            "| train_func_80fed_00001   TERMINATED   0.000181062             64   0.925        10            161.495   0.160299      0.188214  |\n",
            "| train_func_80fed_00002   TERMINATED   0.000139915             64   0.5           1             16.806   3.69056       2.13236   |\n",
            "| train_func_80fed_00003   TERMINATED   0.000105564             64   0.9875       10            165.032   0.00542249    0.0528148 |\n",
            "| train_func_80fed_00005   PENDING      0.000104581             32                                                                |\n",
            "+---------------------------------------------------------------------------------------------------------------------------------+\n",
            "\u001b[36m(train_func pid=54418)\u001b[0m /tmp/tmpbmu63na7/checkpoint.pt\n"
          ]
        },
        {
          "output_type": "stream",
          "name": "stderr",
          "text": [
            "\u001b[36m(train_func pid=54418)\u001b[0m Checkpoint successfully created at: Checkpoint(filesystem=local, path=/content/drive/MyDrive/ray_results/tune_analyzing_results/train_func_80fed_00004_4_batch_size=32,lr=0.0003_2024-05-07_14-44-46/checkpoint_000009)\n"
          ]
        },
        {
          "output_type": "stream",
          "name": "stdout",
          "text": [
            "\n",
            "Trial train_func_80fed_00004 completed after 10 iterations at 2024-05-07 14:50:28. Total running time: 11min 44s\n",
            "+-----------------------------------------------------------+\n",
            "| Trial train_func_80fed_00004 result                       |\n",
            "+-----------------------------------------------------------+\n",
            "| checkpoint_dir_name                     checkpoint_000009 |\n",
            "| time_this_iter_s                                 16.90227 |\n",
            "| time_total_s                                     164.7802 |\n",
            "| training_iteration                                     10 |\n",
            "| loss                                              0.19896 |\n",
            "| mean_accuracy                                        0.85 |\n",
            "| val_loss                                          0.40162 |\n",
            "+-----------------------------------------------------------+\n",
            "\n",
            "Trial train_func_80fed_00005 started with configuration:\n",
            "+------------------------------------------------+\n",
            "| Trial train_func_80fed_00005 config            |\n",
            "+------------------------------------------------+\n",
            "| batch_size                                  32 |\n",
            "| epochs                                      10 |\n",
            "| lr                                      0.0001 |\n",
            "| should_checkpoint                            1 |\n",
            "+------------------------------------------------+\n"
          ]
        },
        {
          "output_type": "stream",
          "name": "stderr",
          "text": [
            "\u001b[36m(train_func pid=55437)\u001b[0m /usr/lib/python3.10/multiprocessing/popen_fork.py:66: RuntimeWarning: os.fork() was called. os.fork() is incompatible with multithreaded code, and JAX is multithreaded, so this will likely lead to a deadlock.\n",
            "\u001b[36m(train_func pid=55437)\u001b[0m   self.pid = os.fork()\n"
          ]
        },
        {
          "output_type": "stream",
          "name": "stdout",
          "text": [
            "\n",
            "Trial status: 5 TERMINATED | 1 RUNNING | 1 PENDING\n",
            "Current time: 2024-05-07 14:50:45. Total running time: 12min 1s\n",
            "Logical resource usage: 4.0/8 CPUs, 1.0/1 GPUs (1.0/1.0 accelerator_type:T4)\n",
            "Current best trial: 80fed_00003 with val_loss=0.05281481542624533 and params={'lr': 0.00010556379497097863, 'batch_size': 64, 'epochs': 10, 'should_checkpoint': True}\n",
            "+---------------------------------------------------------------------------------------------------------------------------------+\n",
            "| Trial name               status                lr     batch_size      acc     iter     total time (s)         loss     val_loss |\n",
            "+---------------------------------------------------------------------------------------------------------------------------------+\n",
            "| train_func_80fed_00005   RUNNING      0.000104581             32                                                                |\n",
            "| train_func_80fed_00000   TERMINATED   0.000238589             16   0.925        10            165.209   0.220661      0.149014  |\n",
            "| train_func_80fed_00001   TERMINATED   0.000181062             64   0.925        10            161.495   0.160299      0.188214  |\n",
            "| train_func_80fed_00002   TERMINATED   0.000139915             64   0.5           1             16.806   3.69056       2.13236   |\n",
            "| train_func_80fed_00003   TERMINATED   0.000105564             64   0.9875       10            165.032   0.00542249    0.0528148 |\n",
            "| train_func_80fed_00004   TERMINATED   0.000266648             32   0.85         10            164.78    0.198958      0.401617  |\n",
            "| train_func_80fed_00006   PENDING      0.000177632             16                                                                |\n",
            "+---------------------------------------------------------------------------------------------------------------------------------+\n",
            "\u001b[36m(train_func pid=55437)\u001b[0m /tmp/tmpbzr7ll6p/checkpoint.pt\n"
          ]
        },
        {
          "output_type": "stream",
          "name": "stderr",
          "text": [
            "\u001b[36m(train_func pid=55437)\u001b[0m Checkpoint successfully created at: Checkpoint(filesystem=local, path=/content/drive/MyDrive/ray_results/tune_analyzing_results/train_func_80fed_00005_5_batch_size=32,lr=0.0001_2024-05-07_14-47-38/checkpoint_000000)\n"
          ]
        },
        {
          "output_type": "stream",
          "name": "stdout",
          "text": [
            "\u001b[36m(train_func pid=55437)\u001b[0m /tmp/tmp0fd0oclh/checkpoint.pt\n"
          ]
        },
        {
          "output_type": "stream",
          "name": "stderr",
          "text": [
            "\u001b[36m(train_func pid=55437)\u001b[0m Checkpoint successfully created at: Checkpoint(filesystem=local, path=/content/drive/MyDrive/ray_results/tune_analyzing_results/train_func_80fed_00005_5_batch_size=32,lr=0.0001_2024-05-07_14-47-38/checkpoint_000001)\n"
          ]
        },
        {
          "output_type": "stream",
          "name": "stdout",
          "text": [
            "Trial status: 5 TERMINATED | 1 RUNNING | 1 PENDING\n",
            "Current time: 2024-05-07 14:51:15. Total running time: 12min 31s\n",
            "Logical resource usage: 4.0/8 CPUs, 1.0/1 GPUs (1.0/1.0 accelerator_type:T4)\n",
            "Current best trial: 80fed_00003 with val_loss=0.05281481542624533 and params={'lr': 0.00010556379497097863, 'batch_size': 64, 'epochs': 10, 'should_checkpoint': True}\n",
            "+---------------------------------------------------------------------------------------------------------------------------------+\n",
            "| Trial name               status                lr     batch_size      acc     iter     total time (s)         loss     val_loss |\n",
            "+---------------------------------------------------------------------------------------------------------------------------------+\n",
            "| train_func_80fed_00005   RUNNING      0.000104581             32   0.7375        2            33.7626   0.634742      0.450967  |\n",
            "| train_func_80fed_00000   TERMINATED   0.000238589             16   0.925        10           165.209    0.220661      0.149014  |\n",
            "| train_func_80fed_00001   TERMINATED   0.000181062             64   0.925        10           161.495    0.160299      0.188214  |\n",
            "| train_func_80fed_00002   TERMINATED   0.000139915             64   0.5           1            16.806    3.69056       2.13236   |\n",
            "| train_func_80fed_00003   TERMINATED   0.000105564             64   0.9875       10           165.032    0.00542249    0.0528148 |\n",
            "| train_func_80fed_00004   TERMINATED   0.000266648             32   0.85         10           164.78     0.198958      0.401617  |\n",
            "| train_func_80fed_00006   PENDING      0.000177632             16                                                                |\n",
            "+---------------------------------------------------------------------------------------------------------------------------------+\n",
            "\u001b[36m(train_func pid=55437)\u001b[0m /tmp/tmpzanu5gzt/checkpoint.pt\n"
          ]
        },
        {
          "output_type": "stream",
          "name": "stderr",
          "text": [
            "\u001b[36m(train_func pid=55437)\u001b[0m Checkpoint successfully created at: Checkpoint(filesystem=local, path=/content/drive/MyDrive/ray_results/tune_analyzing_results/train_func_80fed_00005_5_batch_size=32,lr=0.0001_2024-05-07_14-47-38/checkpoint_000002)\n"
          ]
        },
        {
          "output_type": "stream",
          "name": "stdout",
          "text": [
            "\u001b[36m(train_func pid=55437)\u001b[0m /tmp/tmpyp6qnazl/checkpoint.pt\n"
          ]
        },
        {
          "output_type": "stream",
          "name": "stderr",
          "text": [
            "\u001b[36m(train_func pid=55437)\u001b[0m Checkpoint successfully created at: Checkpoint(filesystem=local, path=/content/drive/MyDrive/ray_results/tune_analyzing_results/train_func_80fed_00005_5_batch_size=32,lr=0.0001_2024-05-07_14-47-38/checkpoint_000003)\n"
          ]
        },
        {
          "output_type": "stream",
          "name": "stdout",
          "text": [
            "Trial status: 5 TERMINATED | 1 RUNNING | 1 PENDING\n",
            "Current time: 2024-05-07 14:51:45. Total running time: 13min 1s\n",
            "Logical resource usage: 4.0/8 CPUs, 1.0/1 GPUs (1.0/1.0 accelerator_type:T4)\n",
            "Current best trial: 80fed_00003 with val_loss=0.05281481542624533 and params={'lr': 0.00010556379497097863, 'batch_size': 64, 'epochs': 10, 'should_checkpoint': True}\n",
            "+---------------------------------------------------------------------------------------------------------------------------------+\n",
            "| Trial name               status                lr     batch_size      acc     iter     total time (s)         loss     val_loss |\n",
            "+---------------------------------------------------------------------------------------------------------------------------------+\n",
            "| train_func_80fed_00005   RUNNING      0.000104581             32   0.95          4             66.249   0.278432      0.105963  |\n",
            "| train_func_80fed_00000   TERMINATED   0.000238589             16   0.925        10            165.209   0.220661      0.149014  |\n",
            "| train_func_80fed_00001   TERMINATED   0.000181062             64   0.925        10            161.495   0.160299      0.188214  |\n",
            "| train_func_80fed_00002   TERMINATED   0.000139915             64   0.5           1             16.806   3.69056       2.13236   |\n",
            "| train_func_80fed_00003   TERMINATED   0.000105564             64   0.9875       10            165.032   0.00542249    0.0528148 |\n",
            "| train_func_80fed_00004   TERMINATED   0.000266648             32   0.85         10            164.78    0.198958      0.401617  |\n",
            "| train_func_80fed_00006   PENDING      0.000177632             16                                                                |\n",
            "+---------------------------------------------------------------------------------------------------------------------------------+\n",
            "\u001b[36m(train_func pid=55437)\u001b[0m /tmp/tmpjdjncqvz/checkpoint.pt\n"
          ]
        },
        {
          "output_type": "stream",
          "name": "stderr",
          "text": [
            "\u001b[36m(train_func pid=55437)\u001b[0m Checkpoint successfully created at: Checkpoint(filesystem=local, path=/content/drive/MyDrive/ray_results/tune_analyzing_results/train_func_80fed_00005_5_batch_size=32,lr=0.0001_2024-05-07_14-47-38/checkpoint_000004)\n"
          ]
        },
        {
          "output_type": "stream",
          "name": "stdout",
          "text": [
            "\u001b[36m(train_func pid=55437)\u001b[0m /tmp/tmpuqj32g4t/checkpoint.pt\n"
          ]
        },
        {
          "output_type": "stream",
          "name": "stderr",
          "text": [
            "\u001b[36m(train_func pid=55437)\u001b[0m Checkpoint successfully created at: Checkpoint(filesystem=local, path=/content/drive/MyDrive/ray_results/tune_analyzing_results/train_func_80fed_00005_5_batch_size=32,lr=0.0001_2024-05-07_14-47-38/checkpoint_000005)\n"
          ]
        },
        {
          "output_type": "stream",
          "name": "stdout",
          "text": [
            "Trial status: 5 TERMINATED | 1 RUNNING | 1 PENDING\n",
            "Current time: 2024-05-07 14:52:15. Total running time: 13min 31s\n",
            "Logical resource usage: 4.0/8 CPUs, 1.0/1 GPUs (1.0/1.0 accelerator_type:T4)\n",
            "Current best trial: 80fed_00003 with val_loss=0.05281481542624533 and params={'lr': 0.00010556379497097863, 'batch_size': 64, 'epochs': 10, 'should_checkpoint': True}\n",
            "+---------------------------------------------------------------------------------------------------------------------------------+\n",
            "| Trial name               status                lr     batch_size      acc     iter     total time (s)         loss     val_loss |\n",
            "+---------------------------------------------------------------------------------------------------------------------------------+\n",
            "| train_func_80fed_00005   RUNNING      0.000104581             32   0.9375        6            99.2151   0.0974253     0.098264  |\n",
            "| train_func_80fed_00000   TERMINATED   0.000238589             16   0.925        10           165.209    0.220661      0.149014  |\n",
            "| train_func_80fed_00001   TERMINATED   0.000181062             64   0.925        10           161.495    0.160299      0.188214  |\n",
            "| train_func_80fed_00002   TERMINATED   0.000139915             64   0.5           1            16.806    3.69056       2.13236   |\n",
            "| train_func_80fed_00003   TERMINATED   0.000105564             64   0.9875       10           165.032    0.00542249    0.0528148 |\n",
            "| train_func_80fed_00004   TERMINATED   0.000266648             32   0.85         10           164.78     0.198958      0.401617  |\n",
            "| train_func_80fed_00006   PENDING      0.000177632             16                                                                |\n",
            "+---------------------------------------------------------------------------------------------------------------------------------+\n",
            "\u001b[36m(train_func pid=55437)\u001b[0m /tmp/tmp4egcgyvf/checkpoint.pt\n"
          ]
        },
        {
          "output_type": "stream",
          "name": "stderr",
          "text": [
            "\u001b[36m(train_func pid=55437)\u001b[0m Checkpoint successfully created at: Checkpoint(filesystem=local, path=/content/drive/MyDrive/ray_results/tune_analyzing_results/train_func_80fed_00005_5_batch_size=32,lr=0.0001_2024-05-07_14-47-38/checkpoint_000006)\n"
          ]
        },
        {
          "output_type": "stream",
          "name": "stdout",
          "text": [
            "\u001b[36m(train_func pid=55437)\u001b[0m /tmp/tmp79rk12su/checkpoint.pt\n"
          ]
        },
        {
          "output_type": "stream",
          "name": "stderr",
          "text": [
            "\u001b[36m(train_func pid=55437)\u001b[0m Checkpoint successfully created at: Checkpoint(filesystem=local, path=/content/drive/MyDrive/ray_results/tune_analyzing_results/train_func_80fed_00005_5_batch_size=32,lr=0.0001_2024-05-07_14-47-38/checkpoint_000007)\n"
          ]
        },
        {
          "output_type": "stream",
          "name": "stdout",
          "text": [
            "Trial status: 5 TERMINATED | 1 RUNNING | 1 PENDING\n",
            "Current time: 2024-05-07 14:52:45. Total running time: 14min 1s\n",
            "Logical resource usage: 4.0/8 CPUs, 1.0/1 GPUs (1.0/1.0 accelerator_type:T4)\n",
            "Current best trial: 80fed_00003 with val_loss=0.05281481542624533 and params={'lr': 0.00010556379497097863, 'batch_size': 64, 'epochs': 10, 'should_checkpoint': True}\n",
            "+---------------------------------------------------------------------------------------------------------------------------------+\n",
            "| Trial name               status                lr     batch_size      acc     iter     total time (s)         loss     val_loss |\n",
            "+---------------------------------------------------------------------------------------------------------------------------------+\n",
            "| train_func_80fed_00005   RUNNING      0.000104581             32   0.975         8            131.04    0.0198302     0.0869079 |\n",
            "| train_func_80fed_00000   TERMINATED   0.000238589             16   0.925        10            165.209   0.220661      0.149014  |\n",
            "| train_func_80fed_00001   TERMINATED   0.000181062             64   0.925        10            161.495   0.160299      0.188214  |\n",
            "| train_func_80fed_00002   TERMINATED   0.000139915             64   0.5           1             16.806   3.69056       2.13236   |\n",
            "| train_func_80fed_00003   TERMINATED   0.000105564             64   0.9875       10            165.032   0.00542249    0.0528148 |\n",
            "| train_func_80fed_00004   TERMINATED   0.000266648             32   0.85         10            164.78    0.198958      0.401617  |\n",
            "| train_func_80fed_00006   PENDING      0.000177632             16                                                                |\n",
            "+---------------------------------------------------------------------------------------------------------------------------------+\n",
            "\u001b[36m(train_func pid=55437)\u001b[0m /tmp/tmpjqotoqgp/checkpoint.pt\n"
          ]
        },
        {
          "output_type": "stream",
          "name": "stderr",
          "text": [
            "\u001b[36m(train_func pid=55437)\u001b[0m Checkpoint successfully created at: Checkpoint(filesystem=local, path=/content/drive/MyDrive/ray_results/tune_analyzing_results/train_func_80fed_00005_5_batch_size=32,lr=0.0001_2024-05-07_14-47-38/checkpoint_000008)\n"
          ]
        },
        {
          "output_type": "stream",
          "name": "stdout",
          "text": [
            "Trial status: 5 TERMINATED | 1 RUNNING | 1 PENDING\n",
            "Current time: 2024-05-07 14:53:15. Total running time: 14min 31s\n",
            "Logical resource usage: 4.0/8 CPUs, 1.0/1 GPUs (1.0/1.0 accelerator_type:T4)\n",
            "Current best trial: 80fed_00003 with val_loss=0.05281481542624533 and params={'lr': 0.00010556379497097863, 'batch_size': 64, 'epochs': 10, 'should_checkpoint': True}\n",
            "+---------------------------------------------------------------------------------------------------------------------------------+\n",
            "| Trial name               status                lr     batch_size      acc     iter     total time (s)         loss     val_loss |\n",
            "+---------------------------------------------------------------------------------------------------------------------------------+\n",
            "| train_func_80fed_00005   RUNNING      0.000104581             32   0.9           9            147.874   0.0202987     0.702356  |\n",
            "| train_func_80fed_00000   TERMINATED   0.000238589             16   0.925        10            165.209   0.220661      0.149014  |\n",
            "| train_func_80fed_00001   TERMINATED   0.000181062             64   0.925        10            161.495   0.160299      0.188214  |\n",
            "| train_func_80fed_00002   TERMINATED   0.000139915             64   0.5           1             16.806   3.69056       2.13236   |\n",
            "| train_func_80fed_00003   TERMINATED   0.000105564             64   0.9875       10            165.032   0.00542249    0.0528148 |\n",
            "| train_func_80fed_00004   TERMINATED   0.000266648             32   0.85         10            164.78    0.198958      0.401617  |\n",
            "| train_func_80fed_00006   PENDING      0.000177632             16                                                                |\n",
            "+---------------------------------------------------------------------------------------------------------------------------------+\n",
            "\u001b[36m(train_func pid=55437)\u001b[0m /tmp/tmp6wt2b0xg/checkpoint.pt\n"
          ]
        },
        {
          "output_type": "stream",
          "name": "stderr",
          "text": [
            "\u001b[36m(train_func pid=55437)\u001b[0m Checkpoint successfully created at: Checkpoint(filesystem=local, path=/content/drive/MyDrive/ray_results/tune_analyzing_results/train_func_80fed_00005_5_batch_size=32,lr=0.0001_2024-05-07_14-47-38/checkpoint_000009)\n"
          ]
        },
        {
          "output_type": "stream",
          "name": "stdout",
          "text": [
            "\n",
            "Trial train_func_80fed_00005 completed after 10 iterations at 2024-05-07 14:53:18. Total running time: 14min 34s\n",
            "+-----------------------------------------------------------+\n",
            "| Trial train_func_80fed_00005 result                       |\n",
            "+-----------------------------------------------------------+\n",
            "| checkpoint_dir_name                     checkpoint_000009 |\n",
            "| time_this_iter_s                                 16.63831 |\n",
            "| time_total_s                                     164.5128 |\n",
            "| training_iteration                                     10 |\n",
            "| loss                                              0.01536 |\n",
            "| mean_accuracy                                      0.9625 |\n",
            "| val_loss                                          0.11847 |\n",
            "+-----------------------------------------------------------+\n",
            "\n",
            "Trial train_func_80fed_00006 started with configuration:\n",
            "+-------------------------------------------------+\n",
            "| Trial train_func_80fed_00006 config             |\n",
            "+-------------------------------------------------+\n",
            "| batch_size                                   16 |\n",
            "| epochs                                       10 |\n",
            "| lr                                      0.00018 |\n",
            "| should_checkpoint                             1 |\n",
            "+-------------------------------------------------+\n"
          ]
        },
        {
          "output_type": "stream",
          "name": "stderr",
          "text": [
            "\u001b[36m(train_func pid=56454)\u001b[0m /usr/lib/python3.10/multiprocessing/popen_fork.py:66: RuntimeWarning: os.fork() was called. os.fork() is incompatible with multithreaded code, and JAX is multithreaded, so this will likely lead to a deadlock.\n",
            "\u001b[36m(train_func pid=56454)\u001b[0m   self.pid = os.fork()\n"
          ]
        },
        {
          "output_type": "stream",
          "name": "stdout",
          "text": [
            "\u001b[36m(train_func pid=56454)\u001b[0m /tmp/tmpwkmsrbcp/checkpoint.pt\n",
            "\n",
            "Trial train_func_80fed_00006 completed after 1 iterations at 2024-05-07 14:53:40. Total running time: 14min 56s\n",
            "+-----------------------------------------------------------+\n",
            "| Trial train_func_80fed_00006 result                       |\n",
            "+-----------------------------------------------------------+\n",
            "| checkpoint_dir_name                     checkpoint_000000 |\n",
            "| time_this_iter_s                                 16.95344 |\n",
            "| time_total_s                                     16.95344 |\n",
            "| training_iteration                                      1 |\n",
            "| loss                                              4.18342 |\n",
            "| mean_accuracy                                         0.5 |\n",
            "| val_loss                                          1.32899 |\n",
            "+-----------------------------------------------------------+\n"
          ]
        },
        {
          "output_type": "stream",
          "name": "stderr",
          "text": [
            "\u001b[36m(train_func pid=56454)\u001b[0m Checkpoint successfully created at: Checkpoint(filesystem=local, path=/content/drive/MyDrive/ray_results/tune_analyzing_results/train_func_80fed_00006_6_batch_size=16,lr=0.0002_2024-05-07_14-50-28/checkpoint_000000)\n"
          ]
        },
        {
          "output_type": "stream",
          "name": "stdout",
          "text": [
            "\n",
            "Trial train_func_80fed_00007 started with configuration:\n",
            "+-------------------------------------------------+\n",
            "| Trial train_func_80fed_00007 config             |\n",
            "+-------------------------------------------------+\n",
            "| batch_size                                   32 |\n",
            "| epochs                                       10 |\n",
            "| lr                                      0.00026 |\n",
            "| should_checkpoint                             1 |\n",
            "+-------------------------------------------------+\n",
            "\n",
            "Trial status: 7 TERMINATED | 1 RUNNING\n",
            "Current time: 2024-05-07 14:53:45. Total running time: 15min 1s\n",
            "Logical resource usage: 4.0/8 CPUs, 1.0/1 GPUs (1.0/1.0 accelerator_type:T4)\n",
            "Current best trial: 80fed_00003 with val_loss=0.05281481542624533 and params={'lr': 0.00010556379497097863, 'batch_size': 64, 'epochs': 10, 'should_checkpoint': True}\n",
            "+---------------------------------------------------------------------------------------------------------------------------------+\n",
            "| Trial name               status                lr     batch_size      acc     iter     total time (s)         loss     val_loss |\n",
            "+---------------------------------------------------------------------------------------------------------------------------------+\n",
            "| train_func_80fed_00007   RUNNING      0.0002557               32                                                                |\n",
            "| train_func_80fed_00000   TERMINATED   0.000238589             16   0.925        10           165.209    0.220661      0.149014  |\n",
            "| train_func_80fed_00001   TERMINATED   0.000181062             64   0.925        10           161.495    0.160299      0.188214  |\n",
            "| train_func_80fed_00002   TERMINATED   0.000139915             64   0.5           1            16.806    3.69056       2.13236   |\n",
            "| train_func_80fed_00003   TERMINATED   0.000105564             64   0.9875       10           165.032    0.00542249    0.0528148 |\n",
            "| train_func_80fed_00004   TERMINATED   0.000266648             32   0.85         10           164.78     0.198958      0.401617  |\n",
            "| train_func_80fed_00005   TERMINATED   0.000104581             32   0.9625       10           164.513    0.015363      0.118472  |\n",
            "| train_func_80fed_00006   TERMINATED   0.000177632             16   0.5           1            16.9534   4.18342       1.32899   |\n",
            "+---------------------------------------------------------------------------------------------------------------------------------+\n"
          ]
        },
        {
          "output_type": "stream",
          "name": "stderr",
          "text": [
            "\u001b[36m(train_func pid=56624)\u001b[0m /usr/lib/python3.10/multiprocessing/popen_fork.py:66: RuntimeWarning: os.fork() was called. os.fork() is incompatible with multithreaded code, and JAX is multithreaded, so this will likely lead to a deadlock.\n",
            "\u001b[36m(train_func pid=56624)\u001b[0m   self.pid = os.fork()\n"
          ]
        },
        {
          "output_type": "stream",
          "name": "stdout",
          "text": [
            "\u001b[36m(train_func pid=56624)\u001b[0m /tmp/tmpkrv5ma87/checkpoint.pt\n",
            "\n",
            "Trial train_func_80fed_00007 completed after 1 iterations at 2024-05-07 14:54:01. Total running time: 15min 18s\n",
            "+-----------------------------------------------------------+\n",
            "| Trial train_func_80fed_00007 result                       |\n",
            "+-----------------------------------------------------------+\n",
            "| checkpoint_dir_name                     checkpoint_000000 |\n",
            "| time_this_iter_s                                 16.81008 |\n",
            "| time_total_s                                     16.81008 |\n",
            "| training_iteration                                      1 |\n",
            "| loss                                              4.65947 |\n",
            "| mean_accuracy                                         0.3 |\n",
            "| val_loss                                          2.22546 |\n",
            "+-----------------------------------------------------------+\n"
          ]
        },
        {
          "output_type": "stream",
          "name": "stderr",
          "text": [
            "\u001b[36m(train_func pid=56624)\u001b[0m Checkpoint successfully created at: Checkpoint(filesystem=local, path=/content/drive/MyDrive/ray_results/tune_analyzing_results/train_func_80fed_00007_7_batch_size=32,lr=0.0003_2024-05-07_14-53-18/checkpoint_000000)\n",
            "2024-05-07 14:54:03,775\tINFO tune.py:1007 -- Wrote the latest version of all result files and experiment state to '/content/drive/MyDrive/ray_results/tune_analyzing_results' in 2.0283s.\n"
          ]
        },
        {
          "output_type": "stream",
          "name": "stdout",
          "text": [
            "\n",
            "Trial status: 8 TERMINATED\n",
            "Current time: 2024-05-07 14:54:03. Total running time: 15min 20s\n",
            "Logical resource usage: 4.0/8 CPUs, 1.0/1 GPUs (1.0/1.0 accelerator_type:T4)\n",
            "Current best trial: 80fed_00003 with val_loss=0.05281481542624533 and params={'lr': 0.00010556379497097863, 'batch_size': 64, 'epochs': 10, 'should_checkpoint': True}\n",
            "+---------------------------------------------------------------------------------------------------------------------------------+\n",
            "| Trial name               status                lr     batch_size      acc     iter     total time (s)         loss     val_loss |\n",
            "+---------------------------------------------------------------------------------------------------------------------------------+\n",
            "| train_func_80fed_00000   TERMINATED   0.000238589             16   0.925        10           165.209    0.220661      0.149014  |\n",
            "| train_func_80fed_00001   TERMINATED   0.000181062             64   0.925        10           161.495    0.160299      0.188214  |\n",
            "| train_func_80fed_00002   TERMINATED   0.000139915             64   0.5           1            16.806    3.69056       2.13236   |\n",
            "| train_func_80fed_00003   TERMINATED   0.000105564             64   0.9875       10           165.032    0.00542249    0.0528148 |\n",
            "| train_func_80fed_00004   TERMINATED   0.000266648             32   0.85         10           164.78     0.198958      0.401617  |\n",
            "| train_func_80fed_00005   TERMINATED   0.000104581             32   0.9625       10           164.513    0.015363      0.118472  |\n",
            "| train_func_80fed_00006   TERMINATED   0.000177632             16   0.5           1            16.9534   4.18342       1.32899   |\n",
            "| train_func_80fed_00007   TERMINATED   0.0002557               32   0.3           1            16.8101   4.65947       2.22546   |\n",
            "+---------------------------------------------------------------------------------------------------------------------------------+\n",
            "\n"
          ]
        }
      ],
      "source": [
        "storage_path = \"/content/drive/MyDrive/ray_results\"\n",
        "exp_name = \"tune_analyzing_results\"\n",
        "trainable_with_resources = tune.with_resources(train_func, {\"cpu\":4 , \"gpu\":1, \"accelerator_type:T4\":1})\n",
        "scheduler = ASHAScheduler(\n",
        "        max_t=10,\n",
        "        grace_period=1,\n",
        "        reduction_factor=2)\n",
        "tuner = tune.Tuner(\n",
        "    trainable_with_resources,\n",
        "    param_space={\n",
        "        \"lr\": tune.loguniform(1e-4 , 4e-4, 1e-5),\n",
        "        \"batch_size\": tune.choice([16, 32, 64]),\n",
        "        \"epochs\": 10,\n",
        "        \"should_checkpoint\":True,\n",
        "    },\n",
        "    run_config=train.RunConfig(\n",
        "        name=exp_name,\n",
        "        # stop={\"training_iteration\": 3},\n",
        "        checkpoint_config=train.CheckpointConfig(\n",
        "            checkpoint_score_attribute=\"mean_accuracy\",\n",
        "            num_to_keep=3\n",
        "        ),\n",
        "        storage_path=storage_path,\n",
        "    ),\n",
        "    tune_config=tune.TuneConfig(mode=\"min\", metric=\"val_loss\", num_samples=8, max_concurrent_trials=2, scheduler=scheduler),\n",
        ")\n",
        "result_grid: ResultGrid = tuner.fit()\n"
      ]
    },
    {
      "cell_type": "code",
      "execution_count": null,
      "metadata": {
        "colab": {
          "base_uri": "https://localhost:8080/"
        },
        "id": "tuoUltUixgZ-",
        "outputId": "4ce4c616-bb68-4c8b-d216-6be7bc8bfac8"
      },
      "outputs": [
        {
          "output_type": "stream",
          "name": "stdout",
          "text": [
            "Number of results: 8\n"
          ]
        }
      ],
      "source": [
        "num_results = len(result_grid)\n",
        "print(\"Number of results:\", num_results)"
      ]
    },
    {
      "cell_type": "code",
      "execution_count": null,
      "metadata": {
        "colab": {
          "base_uri": "https://localhost:8080/"
        },
        "id": "yo75lKFKxiWM",
        "outputId": "ceee8a25-eac7-430f-b218-9bdb86772439"
      },
      "outputs": [
        {
          "output_type": "stream",
          "name": "stdout",
          "text": [
            "Trial #0 finished successfully with a mean accuracy metric of: 0.925\n",
            "Trial #1 finished successfully with a mean accuracy metric of: 0.925\n",
            "Trial #2 finished successfully with a mean accuracy metric of: 0.5\n",
            "Trial #3 finished successfully with a mean accuracy metric of: 0.9875\n",
            "Trial #4 finished successfully with a mean accuracy metric of: 0.85\n",
            "Trial #5 finished successfully with a mean accuracy metric of: 0.9625\n",
            "Trial #6 finished successfully with a mean accuracy metric of: 0.5\n",
            "Trial #7 finished successfully with a mean accuracy metric of: 0.3\n"
          ]
        }
      ],
      "source": [
        "# Iterate over results\n",
        "for i, result in enumerate(result_grid):\n",
        "    if result.error:\n",
        "        print(f\"Trial #{i} had an error:\", result.error)\n",
        "        continue\n",
        "\n",
        "    print(\n",
        "        f\"Trial #{i} finished successfully with a mean accuracy metric of:\",\n",
        "        result.metrics[\"mean_accuracy\"]\n",
        "    )"
      ]
    },
    {
      "cell_type": "code",
      "execution_count": null,
      "metadata": {
        "id": "DIORfQk3xkzA",
        "colab": {
          "base_uri": "https://localhost:8080/",
          "height": 300
        },
        "outputId": "d9125229-a1cc-46b7-b6b6-9ee39e90ca16"
      },
      "outputs": [
        {
          "output_type": "execute_result",
          "data": {
            "text/plain": [
              "   training_iteration  mean_accuracy\n",
              "0                  10         0.9250\n",
              "1                  10         0.9250\n",
              "2                   1         0.5000\n",
              "3                  10         0.9875\n",
              "4                  10         0.8500\n",
              "5                  10         0.9625\n",
              "6                   1         0.5000\n",
              "7                   1         0.3000"
            ],
            "text/html": [
              "\n",
              "  <div id=\"df-6e0a4a70-ec6d-49ab-8c27-ed015811f2aa\" class=\"colab-df-container\">\n",
              "    <div>\n",
              "<style scoped>\n",
              "    .dataframe tbody tr th:only-of-type {\n",
              "        vertical-align: middle;\n",
              "    }\n",
              "\n",
              "    .dataframe tbody tr th {\n",
              "        vertical-align: top;\n",
              "    }\n",
              "\n",
              "    .dataframe thead th {\n",
              "        text-align: right;\n",
              "    }\n",
              "</style>\n",
              "<table border=\"1\" class=\"dataframe\">\n",
              "  <thead>\n",
              "    <tr style=\"text-align: right;\">\n",
              "      <th></th>\n",
              "      <th>training_iteration</th>\n",
              "      <th>mean_accuracy</th>\n",
              "    </tr>\n",
              "  </thead>\n",
              "  <tbody>\n",
              "    <tr>\n",
              "      <th>0</th>\n",
              "      <td>10</td>\n",
              "      <td>0.9250</td>\n",
              "    </tr>\n",
              "    <tr>\n",
              "      <th>1</th>\n",
              "      <td>10</td>\n",
              "      <td>0.9250</td>\n",
              "    </tr>\n",
              "    <tr>\n",
              "      <th>2</th>\n",
              "      <td>1</td>\n",
              "      <td>0.5000</td>\n",
              "    </tr>\n",
              "    <tr>\n",
              "      <th>3</th>\n",
              "      <td>10</td>\n",
              "      <td>0.9875</td>\n",
              "    </tr>\n",
              "    <tr>\n",
              "      <th>4</th>\n",
              "      <td>10</td>\n",
              "      <td>0.8500</td>\n",
              "    </tr>\n",
              "    <tr>\n",
              "      <th>5</th>\n",
              "      <td>10</td>\n",
              "      <td>0.9625</td>\n",
              "    </tr>\n",
              "    <tr>\n",
              "      <th>6</th>\n",
              "      <td>1</td>\n",
              "      <td>0.5000</td>\n",
              "    </tr>\n",
              "    <tr>\n",
              "      <th>7</th>\n",
              "      <td>1</td>\n",
              "      <td>0.3000</td>\n",
              "    </tr>\n",
              "  </tbody>\n",
              "</table>\n",
              "</div>\n",
              "    <div class=\"colab-df-buttons\">\n",
              "\n",
              "  <div class=\"colab-df-container\">\n",
              "    <button class=\"colab-df-convert\" onclick=\"convertToInteractive('df-6e0a4a70-ec6d-49ab-8c27-ed015811f2aa')\"\n",
              "            title=\"Convert this dataframe to an interactive table.\"\n",
              "            style=\"display:none;\">\n",
              "\n",
              "  <svg xmlns=\"http://www.w3.org/2000/svg\" height=\"24px\" viewBox=\"0 -960 960 960\">\n",
              "    <path d=\"M120-120v-720h720v720H120Zm60-500h600v-160H180v160Zm220 220h160v-160H400v160Zm0 220h160v-160H400v160ZM180-400h160v-160H180v160Zm440 0h160v-160H620v160ZM180-180h160v-160H180v160Zm440 0h160v-160H620v160Z\"/>\n",
              "  </svg>\n",
              "    </button>\n",
              "\n",
              "  <style>\n",
              "    .colab-df-container {\n",
              "      display:flex;\n",
              "      gap: 12px;\n",
              "    }\n",
              "\n",
              "    .colab-df-convert {\n",
              "      background-color: #E8F0FE;\n",
              "      border: none;\n",
              "      border-radius: 50%;\n",
              "      cursor: pointer;\n",
              "      display: none;\n",
              "      fill: #1967D2;\n",
              "      height: 32px;\n",
              "      padding: 0 0 0 0;\n",
              "      width: 32px;\n",
              "    }\n",
              "\n",
              "    .colab-df-convert:hover {\n",
              "      background-color: #E2EBFA;\n",
              "      box-shadow: 0px 1px 2px rgba(60, 64, 67, 0.3), 0px 1px 3px 1px rgba(60, 64, 67, 0.15);\n",
              "      fill: #174EA6;\n",
              "    }\n",
              "\n",
              "    .colab-df-buttons div {\n",
              "      margin-bottom: 4px;\n",
              "    }\n",
              "\n",
              "    [theme=dark] .colab-df-convert {\n",
              "      background-color: #3B4455;\n",
              "      fill: #D2E3FC;\n",
              "    }\n",
              "\n",
              "    [theme=dark] .colab-df-convert:hover {\n",
              "      background-color: #434B5C;\n",
              "      box-shadow: 0px 1px 3px 1px rgba(0, 0, 0, 0.15);\n",
              "      filter: drop-shadow(0px 1px 2px rgba(0, 0, 0, 0.3));\n",
              "      fill: #FFFFFF;\n",
              "    }\n",
              "  </style>\n",
              "\n",
              "    <script>\n",
              "      const buttonEl =\n",
              "        document.querySelector('#df-6e0a4a70-ec6d-49ab-8c27-ed015811f2aa button.colab-df-convert');\n",
              "      buttonEl.style.display =\n",
              "        google.colab.kernel.accessAllowed ? 'block' : 'none';\n",
              "\n",
              "      async function convertToInteractive(key) {\n",
              "        const element = document.querySelector('#df-6e0a4a70-ec6d-49ab-8c27-ed015811f2aa');\n",
              "        const dataTable =\n",
              "          await google.colab.kernel.invokeFunction('convertToInteractive',\n",
              "                                                    [key], {});\n",
              "        if (!dataTable) return;\n",
              "\n",
              "        const docLinkHtml = 'Like what you see? Visit the ' +\n",
              "          '<a target=\"_blank\" href=https://colab.research.google.com/notebooks/data_table.ipynb>data table notebook</a>'\n",
              "          + ' to learn more about interactive tables.';\n",
              "        element.innerHTML = '';\n",
              "        dataTable['output_type'] = 'display_data';\n",
              "        await google.colab.output.renderOutput(dataTable, element);\n",
              "        const docLink = document.createElement('div');\n",
              "        docLink.innerHTML = docLinkHtml;\n",
              "        element.appendChild(docLink);\n",
              "      }\n",
              "    </script>\n",
              "  </div>\n",
              "\n",
              "\n",
              "<div id=\"df-3eb3e1ff-0527-417e-b9e0-fa15b4f51efc\">\n",
              "  <button class=\"colab-df-quickchart\" onclick=\"quickchart('df-3eb3e1ff-0527-417e-b9e0-fa15b4f51efc')\"\n",
              "            title=\"Suggest charts\"\n",
              "            style=\"display:none;\">\n",
              "\n",
              "<svg xmlns=\"http://www.w3.org/2000/svg\" height=\"24px\"viewBox=\"0 0 24 24\"\n",
              "     width=\"24px\">\n",
              "    <g>\n",
              "        <path d=\"M19 3H5c-1.1 0-2 .9-2 2v14c0 1.1.9 2 2 2h14c1.1 0 2-.9 2-2V5c0-1.1-.9-2-2-2zM9 17H7v-7h2v7zm4 0h-2V7h2v10zm4 0h-2v-4h2v4z\"/>\n",
              "    </g>\n",
              "</svg>\n",
              "  </button>\n",
              "\n",
              "<style>\n",
              "  .colab-df-quickchart {\n",
              "      --bg-color: #E8F0FE;\n",
              "      --fill-color: #1967D2;\n",
              "      --hover-bg-color: #E2EBFA;\n",
              "      --hover-fill-color: #174EA6;\n",
              "      --disabled-fill-color: #AAA;\n",
              "      --disabled-bg-color: #DDD;\n",
              "  }\n",
              "\n",
              "  [theme=dark] .colab-df-quickchart {\n",
              "      --bg-color: #3B4455;\n",
              "      --fill-color: #D2E3FC;\n",
              "      --hover-bg-color: #434B5C;\n",
              "      --hover-fill-color: #FFFFFF;\n",
              "      --disabled-bg-color: #3B4455;\n",
              "      --disabled-fill-color: #666;\n",
              "  }\n",
              "\n",
              "  .colab-df-quickchart {\n",
              "    background-color: var(--bg-color);\n",
              "    border: none;\n",
              "    border-radius: 50%;\n",
              "    cursor: pointer;\n",
              "    display: none;\n",
              "    fill: var(--fill-color);\n",
              "    height: 32px;\n",
              "    padding: 0;\n",
              "    width: 32px;\n",
              "  }\n",
              "\n",
              "  .colab-df-quickchart:hover {\n",
              "    background-color: var(--hover-bg-color);\n",
              "    box-shadow: 0 1px 2px rgba(60, 64, 67, 0.3), 0 1px 3px 1px rgba(60, 64, 67, 0.15);\n",
              "    fill: var(--button-hover-fill-color);\n",
              "  }\n",
              "\n",
              "  .colab-df-quickchart-complete:disabled,\n",
              "  .colab-df-quickchart-complete:disabled:hover {\n",
              "    background-color: var(--disabled-bg-color);\n",
              "    fill: var(--disabled-fill-color);\n",
              "    box-shadow: none;\n",
              "  }\n",
              "\n",
              "  .colab-df-spinner {\n",
              "    border: 2px solid var(--fill-color);\n",
              "    border-color: transparent;\n",
              "    border-bottom-color: var(--fill-color);\n",
              "    animation:\n",
              "      spin 1s steps(1) infinite;\n",
              "  }\n",
              "\n",
              "  @keyframes spin {\n",
              "    0% {\n",
              "      border-color: transparent;\n",
              "      border-bottom-color: var(--fill-color);\n",
              "      border-left-color: var(--fill-color);\n",
              "    }\n",
              "    20% {\n",
              "      border-color: transparent;\n",
              "      border-left-color: var(--fill-color);\n",
              "      border-top-color: var(--fill-color);\n",
              "    }\n",
              "    30% {\n",
              "      border-color: transparent;\n",
              "      border-left-color: var(--fill-color);\n",
              "      border-top-color: var(--fill-color);\n",
              "      border-right-color: var(--fill-color);\n",
              "    }\n",
              "    40% {\n",
              "      border-color: transparent;\n",
              "      border-right-color: var(--fill-color);\n",
              "      border-top-color: var(--fill-color);\n",
              "    }\n",
              "    60% {\n",
              "      border-color: transparent;\n",
              "      border-right-color: var(--fill-color);\n",
              "    }\n",
              "    80% {\n",
              "      border-color: transparent;\n",
              "      border-right-color: var(--fill-color);\n",
              "      border-bottom-color: var(--fill-color);\n",
              "    }\n",
              "    90% {\n",
              "      border-color: transparent;\n",
              "      border-bottom-color: var(--fill-color);\n",
              "    }\n",
              "  }\n",
              "</style>\n",
              "\n",
              "  <script>\n",
              "    async function quickchart(key) {\n",
              "      const quickchartButtonEl =\n",
              "        document.querySelector('#' + key + ' button');\n",
              "      quickchartButtonEl.disabled = true;  // To prevent multiple clicks.\n",
              "      quickchartButtonEl.classList.add('colab-df-spinner');\n",
              "      try {\n",
              "        const charts = await google.colab.kernel.invokeFunction(\n",
              "            'suggestCharts', [key], {});\n",
              "      } catch (error) {\n",
              "        console.error('Error during call to suggestCharts:', error);\n",
              "      }\n",
              "      quickchartButtonEl.classList.remove('colab-df-spinner');\n",
              "      quickchartButtonEl.classList.add('colab-df-quickchart-complete');\n",
              "    }\n",
              "    (() => {\n",
              "      let quickchartButtonEl =\n",
              "        document.querySelector('#df-3eb3e1ff-0527-417e-b9e0-fa15b4f51efc button');\n",
              "      quickchartButtonEl.style.display =\n",
              "        google.colab.kernel.accessAllowed ? 'block' : 'none';\n",
              "    })();\n",
              "  </script>\n",
              "</div>\n",
              "\n",
              "    </div>\n",
              "  </div>\n"
            ],
            "application/vnd.google.colaboratory.intrinsic+json": {
              "type": "dataframe",
              "summary": "{\n  \"name\": \"results_df[[\\\"training_iteration\\\", \\\"mean_accuracy\\\"]]\",\n  \"rows\": 8,\n  \"fields\": [\n    {\n      \"column\": \"training_iteration\",\n      \"properties\": {\n        \"dtype\": \"number\",\n        \"std\": 4,\n        \"min\": 1,\n        \"max\": 10,\n        \"num_unique_values\": 2,\n        \"samples\": [\n          1,\n          10\n        ],\n        \"semantic_type\": \"\",\n        \"description\": \"\"\n      }\n    },\n    {\n      \"column\": \"mean_accuracy\",\n      \"properties\": {\n        \"dtype\": \"number\",\n        \"std\": 0.2672612419124244,\n        \"min\": 0.3,\n        \"max\": 0.9875,\n        \"num_unique_values\": 6,\n        \"samples\": [\n          0.925,\n          0.5\n        ],\n        \"semantic_type\": \"\",\n        \"description\": \"\"\n      }\n    }\n  ]\n}"
            }
          },
          "metadata": {},
          "execution_count": 26
        }
      ],
      "source": [
        "results_df = result_grid.get_dataframe()\n",
        "results_df[[\"training_iteration\", \"mean_accuracy\"]]"
      ]
    },
    {
      "cell_type": "code",
      "execution_count": null,
      "metadata": {
        "id": "UQ2WdjuMxq1o"
      },
      "outputs": [],
      "source": [
        "# Get the result with the maximum test set `mean_accuracy`\n",
        "best_result: Result = result_grid.get_best_result()"
      ]
    },
    {
      "cell_type": "code",
      "execution_count": null,
      "metadata": {
        "id": "Pi8gxacuxsdf",
        "colab": {
          "base_uri": "https://localhost:8080/"
        },
        "outputId": "c7fd3c54-a683-4c0e-cacd-73c0bb9b60a7"
      },
      "outputs": [
        {
          "output_type": "execute_result",
          "data": {
            "text/plain": [
              "{'lr': 0.00010556379497097863,\n",
              " 'batch_size': 64,\n",
              " 'epochs': 10,\n",
              " 'should_checkpoint': True}"
            ]
          },
          "metadata": {},
          "execution_count": 28
        }
      ],
      "source": [
        "best_result.config"
      ]
    },
    {
      "cell_type": "code",
      "execution_count": null,
      "metadata": {
        "id": "0utRu95ryCQn",
        "colab": {
          "base_uri": "https://localhost:8080/"
        },
        "outputId": "585b1735-e924-4301-d4a0-842dd7b19e91"
      },
      "outputs": [
        {
          "output_type": "execute_result",
          "data": {
            "text/plain": [
              "{'loss': 0.005422491789795458,\n",
              " 'val_loss': 0.05281481542624533,\n",
              " 'mean_accuracy': 0.9875,\n",
              " 'timestamp': 1715093257,\n",
              " 'checkpoint_dir_name': 'checkpoint_000009',\n",
              " 'should_checkpoint': True,\n",
              " 'done': True,\n",
              " 'training_iteration': 10,\n",
              " 'trial_id': '80fed_00003',\n",
              " 'date': '2024-05-07_14-47-38',\n",
              " 'time_this_iter_s': 16.23350167274475,\n",
              " 'time_total_s': 165.03242230415344,\n",
              " 'pid': 53393,\n",
              " 'hostname': 'fc99d3decfda',\n",
              " 'node_ip': '172.28.0.12',\n",
              " 'config': {'lr': 0.00010556379497097863,\n",
              "  'batch_size': 64,\n",
              "  'epochs': 10,\n",
              "  'should_checkpoint': True},\n",
              " 'time_since_restore': 165.03242230415344,\n",
              " 'iterations_since_restore': 10,\n",
              " 'experiment_tag': '3_batch_size=64,lr=0.0001'}"
            ]
          },
          "metadata": {},
          "execution_count": 29
        }
      ],
      "source": [
        "best_result.metrics"
      ]
    },
    {
      "cell_type": "code",
      "execution_count": null,
      "metadata": {
        "id": "pQLL_DPNyHBn",
        "colab": {
          "base_uri": "https://localhost:8080/",
          "height": 362
        },
        "outputId": "54245ca6-7f73-4c89-b280-41d9438f720f"
      },
      "outputs": [
        {
          "output_type": "execute_result",
          "data": {
            "text/plain": [
              "   training_iteration  mean_accuracy  time_total_s\n",
              "0                   1         0.5000     17.122332\n",
              "1                   2         0.9750     34.120698\n",
              "2                   3         0.9625     52.001296\n",
              "3                   4         0.9625     66.887812\n",
              "4                   5         0.9750     83.449464\n",
              "5                   6         0.9875    100.340779\n",
              "6                   7         1.0000    117.162341\n",
              "7                   8         1.0000    133.917346\n",
              "8                   9         0.9875    148.798921\n",
              "9                  10         0.9875    165.032422"
            ],
            "text/html": [
              "\n",
              "  <div id=\"df-53ae7255-6679-42b6-a1e4-783f607e6b3c\" class=\"colab-df-container\">\n",
              "    <div>\n",
              "<style scoped>\n",
              "    .dataframe tbody tr th:only-of-type {\n",
              "        vertical-align: middle;\n",
              "    }\n",
              "\n",
              "    .dataframe tbody tr th {\n",
              "        vertical-align: top;\n",
              "    }\n",
              "\n",
              "    .dataframe thead th {\n",
              "        text-align: right;\n",
              "    }\n",
              "</style>\n",
              "<table border=\"1\" class=\"dataframe\">\n",
              "  <thead>\n",
              "    <tr style=\"text-align: right;\">\n",
              "      <th></th>\n",
              "      <th>training_iteration</th>\n",
              "      <th>mean_accuracy</th>\n",
              "      <th>time_total_s</th>\n",
              "    </tr>\n",
              "  </thead>\n",
              "  <tbody>\n",
              "    <tr>\n",
              "      <th>0</th>\n",
              "      <td>1</td>\n",
              "      <td>0.5000</td>\n",
              "      <td>17.122332</td>\n",
              "    </tr>\n",
              "    <tr>\n",
              "      <th>1</th>\n",
              "      <td>2</td>\n",
              "      <td>0.9750</td>\n",
              "      <td>34.120698</td>\n",
              "    </tr>\n",
              "    <tr>\n",
              "      <th>2</th>\n",
              "      <td>3</td>\n",
              "      <td>0.9625</td>\n",
              "      <td>52.001296</td>\n",
              "    </tr>\n",
              "    <tr>\n",
              "      <th>3</th>\n",
              "      <td>4</td>\n",
              "      <td>0.9625</td>\n",
              "      <td>66.887812</td>\n",
              "    </tr>\n",
              "    <tr>\n",
              "      <th>4</th>\n",
              "      <td>5</td>\n",
              "      <td>0.9750</td>\n",
              "      <td>83.449464</td>\n",
              "    </tr>\n",
              "    <tr>\n",
              "      <th>5</th>\n",
              "      <td>6</td>\n",
              "      <td>0.9875</td>\n",
              "      <td>100.340779</td>\n",
              "    </tr>\n",
              "    <tr>\n",
              "      <th>6</th>\n",
              "      <td>7</td>\n",
              "      <td>1.0000</td>\n",
              "      <td>117.162341</td>\n",
              "    </tr>\n",
              "    <tr>\n",
              "      <th>7</th>\n",
              "      <td>8</td>\n",
              "      <td>1.0000</td>\n",
              "      <td>133.917346</td>\n",
              "    </tr>\n",
              "    <tr>\n",
              "      <th>8</th>\n",
              "      <td>9</td>\n",
              "      <td>0.9875</td>\n",
              "      <td>148.798921</td>\n",
              "    </tr>\n",
              "    <tr>\n",
              "      <th>9</th>\n",
              "      <td>10</td>\n",
              "      <td>0.9875</td>\n",
              "      <td>165.032422</td>\n",
              "    </tr>\n",
              "  </tbody>\n",
              "</table>\n",
              "</div>\n",
              "    <div class=\"colab-df-buttons\">\n",
              "\n",
              "  <div class=\"colab-df-container\">\n",
              "    <button class=\"colab-df-convert\" onclick=\"convertToInteractive('df-53ae7255-6679-42b6-a1e4-783f607e6b3c')\"\n",
              "            title=\"Convert this dataframe to an interactive table.\"\n",
              "            style=\"display:none;\">\n",
              "\n",
              "  <svg xmlns=\"http://www.w3.org/2000/svg\" height=\"24px\" viewBox=\"0 -960 960 960\">\n",
              "    <path d=\"M120-120v-720h720v720H120Zm60-500h600v-160H180v160Zm220 220h160v-160H400v160Zm0 220h160v-160H400v160ZM180-400h160v-160H180v160Zm440 0h160v-160H620v160ZM180-180h160v-160H180v160Zm440 0h160v-160H620v160Z\"/>\n",
              "  </svg>\n",
              "    </button>\n",
              "\n",
              "  <style>\n",
              "    .colab-df-container {\n",
              "      display:flex;\n",
              "      gap: 12px;\n",
              "    }\n",
              "\n",
              "    .colab-df-convert {\n",
              "      background-color: #E8F0FE;\n",
              "      border: none;\n",
              "      border-radius: 50%;\n",
              "      cursor: pointer;\n",
              "      display: none;\n",
              "      fill: #1967D2;\n",
              "      height: 32px;\n",
              "      padding: 0 0 0 0;\n",
              "      width: 32px;\n",
              "    }\n",
              "\n",
              "    .colab-df-convert:hover {\n",
              "      background-color: #E2EBFA;\n",
              "      box-shadow: 0px 1px 2px rgba(60, 64, 67, 0.3), 0px 1px 3px 1px rgba(60, 64, 67, 0.15);\n",
              "      fill: #174EA6;\n",
              "    }\n",
              "\n",
              "    .colab-df-buttons div {\n",
              "      margin-bottom: 4px;\n",
              "    }\n",
              "\n",
              "    [theme=dark] .colab-df-convert {\n",
              "      background-color: #3B4455;\n",
              "      fill: #D2E3FC;\n",
              "    }\n",
              "\n",
              "    [theme=dark] .colab-df-convert:hover {\n",
              "      background-color: #434B5C;\n",
              "      box-shadow: 0px 1px 3px 1px rgba(0, 0, 0, 0.15);\n",
              "      filter: drop-shadow(0px 1px 2px rgba(0, 0, 0, 0.3));\n",
              "      fill: #FFFFFF;\n",
              "    }\n",
              "  </style>\n",
              "\n",
              "    <script>\n",
              "      const buttonEl =\n",
              "        document.querySelector('#df-53ae7255-6679-42b6-a1e4-783f607e6b3c button.colab-df-convert');\n",
              "      buttonEl.style.display =\n",
              "        google.colab.kernel.accessAllowed ? 'block' : 'none';\n",
              "\n",
              "      async function convertToInteractive(key) {\n",
              "        const element = document.querySelector('#df-53ae7255-6679-42b6-a1e4-783f607e6b3c');\n",
              "        const dataTable =\n",
              "          await google.colab.kernel.invokeFunction('convertToInteractive',\n",
              "                                                    [key], {});\n",
              "        if (!dataTable) return;\n",
              "\n",
              "        const docLinkHtml = 'Like what you see? Visit the ' +\n",
              "          '<a target=\"_blank\" href=https://colab.research.google.com/notebooks/data_table.ipynb>data table notebook</a>'\n",
              "          + ' to learn more about interactive tables.';\n",
              "        element.innerHTML = '';\n",
              "        dataTable['output_type'] = 'display_data';\n",
              "        await google.colab.output.renderOutput(dataTable, element);\n",
              "        const docLink = document.createElement('div');\n",
              "        docLink.innerHTML = docLinkHtml;\n",
              "        element.appendChild(docLink);\n",
              "      }\n",
              "    </script>\n",
              "  </div>\n",
              "\n",
              "\n",
              "<div id=\"df-44bac9c1-ac09-4c85-a248-fcc7498e9513\">\n",
              "  <button class=\"colab-df-quickchart\" onclick=\"quickchart('df-44bac9c1-ac09-4c85-a248-fcc7498e9513')\"\n",
              "            title=\"Suggest charts\"\n",
              "            style=\"display:none;\">\n",
              "\n",
              "<svg xmlns=\"http://www.w3.org/2000/svg\" height=\"24px\"viewBox=\"0 0 24 24\"\n",
              "     width=\"24px\">\n",
              "    <g>\n",
              "        <path d=\"M19 3H5c-1.1 0-2 .9-2 2v14c0 1.1.9 2 2 2h14c1.1 0 2-.9 2-2V5c0-1.1-.9-2-2-2zM9 17H7v-7h2v7zm4 0h-2V7h2v10zm4 0h-2v-4h2v4z\"/>\n",
              "    </g>\n",
              "</svg>\n",
              "  </button>\n",
              "\n",
              "<style>\n",
              "  .colab-df-quickchart {\n",
              "      --bg-color: #E8F0FE;\n",
              "      --fill-color: #1967D2;\n",
              "      --hover-bg-color: #E2EBFA;\n",
              "      --hover-fill-color: #174EA6;\n",
              "      --disabled-fill-color: #AAA;\n",
              "      --disabled-bg-color: #DDD;\n",
              "  }\n",
              "\n",
              "  [theme=dark] .colab-df-quickchart {\n",
              "      --bg-color: #3B4455;\n",
              "      --fill-color: #D2E3FC;\n",
              "      --hover-bg-color: #434B5C;\n",
              "      --hover-fill-color: #FFFFFF;\n",
              "      --disabled-bg-color: #3B4455;\n",
              "      --disabled-fill-color: #666;\n",
              "  }\n",
              "\n",
              "  .colab-df-quickchart {\n",
              "    background-color: var(--bg-color);\n",
              "    border: none;\n",
              "    border-radius: 50%;\n",
              "    cursor: pointer;\n",
              "    display: none;\n",
              "    fill: var(--fill-color);\n",
              "    height: 32px;\n",
              "    padding: 0;\n",
              "    width: 32px;\n",
              "  }\n",
              "\n",
              "  .colab-df-quickchart:hover {\n",
              "    background-color: var(--hover-bg-color);\n",
              "    box-shadow: 0 1px 2px rgba(60, 64, 67, 0.3), 0 1px 3px 1px rgba(60, 64, 67, 0.15);\n",
              "    fill: var(--button-hover-fill-color);\n",
              "  }\n",
              "\n",
              "  .colab-df-quickchart-complete:disabled,\n",
              "  .colab-df-quickchart-complete:disabled:hover {\n",
              "    background-color: var(--disabled-bg-color);\n",
              "    fill: var(--disabled-fill-color);\n",
              "    box-shadow: none;\n",
              "  }\n",
              "\n",
              "  .colab-df-spinner {\n",
              "    border: 2px solid var(--fill-color);\n",
              "    border-color: transparent;\n",
              "    border-bottom-color: var(--fill-color);\n",
              "    animation:\n",
              "      spin 1s steps(1) infinite;\n",
              "  }\n",
              "\n",
              "  @keyframes spin {\n",
              "    0% {\n",
              "      border-color: transparent;\n",
              "      border-bottom-color: var(--fill-color);\n",
              "      border-left-color: var(--fill-color);\n",
              "    }\n",
              "    20% {\n",
              "      border-color: transparent;\n",
              "      border-left-color: var(--fill-color);\n",
              "      border-top-color: var(--fill-color);\n",
              "    }\n",
              "    30% {\n",
              "      border-color: transparent;\n",
              "      border-left-color: var(--fill-color);\n",
              "      border-top-color: var(--fill-color);\n",
              "      border-right-color: var(--fill-color);\n",
              "    }\n",
              "    40% {\n",
              "      border-color: transparent;\n",
              "      border-right-color: var(--fill-color);\n",
              "      border-top-color: var(--fill-color);\n",
              "    }\n",
              "    60% {\n",
              "      border-color: transparent;\n",
              "      border-right-color: var(--fill-color);\n",
              "    }\n",
              "    80% {\n",
              "      border-color: transparent;\n",
              "      border-right-color: var(--fill-color);\n",
              "      border-bottom-color: var(--fill-color);\n",
              "    }\n",
              "    90% {\n",
              "      border-color: transparent;\n",
              "      border-bottom-color: var(--fill-color);\n",
              "    }\n",
              "  }\n",
              "</style>\n",
              "\n",
              "  <script>\n",
              "    async function quickchart(key) {\n",
              "      const quickchartButtonEl =\n",
              "        document.querySelector('#' + key + ' button');\n",
              "      quickchartButtonEl.disabled = true;  // To prevent multiple clicks.\n",
              "      quickchartButtonEl.classList.add('colab-df-spinner');\n",
              "      try {\n",
              "        const charts = await google.colab.kernel.invokeFunction(\n",
              "            'suggestCharts', [key], {});\n",
              "      } catch (error) {\n",
              "        console.error('Error during call to suggestCharts:', error);\n",
              "      }\n",
              "      quickchartButtonEl.classList.remove('colab-df-spinner');\n",
              "      quickchartButtonEl.classList.add('colab-df-quickchart-complete');\n",
              "    }\n",
              "    (() => {\n",
              "      let quickchartButtonEl =\n",
              "        document.querySelector('#df-44bac9c1-ac09-4c85-a248-fcc7498e9513 button');\n",
              "      quickchartButtonEl.style.display =\n",
              "        google.colab.kernel.accessAllowed ? 'block' : 'none';\n",
              "    })();\n",
              "  </script>\n",
              "</div>\n",
              "\n",
              "    </div>\n",
              "  </div>\n"
            ],
            "application/vnd.google.colaboratory.intrinsic+json": {
              "type": "dataframe",
              "summary": "{\n  \"name\": \"result_df[[\\\"training_iteration\\\", \\\"mean_accuracy\\\", \\\"time_total_s\\\"]]\",\n  \"rows\": 10,\n  \"fields\": [\n    {\n      \"column\": \"training_iteration\",\n      \"properties\": {\n        \"dtype\": \"number\",\n        \"std\": 3,\n        \"min\": 1,\n        \"max\": 10,\n        \"num_unique_values\": 10,\n        \"samples\": [\n          9,\n          2,\n          6\n        ],\n        \"semantic_type\": \"\",\n        \"description\": \"\"\n      }\n    },\n    {\n      \"column\": \"mean_accuracy\",\n      \"properties\": {\n        \"dtype\": \"number\",\n        \"std\": 0.15298533880371964,\n        \"min\": 0.5,\n        \"max\": 1.0,\n        \"num_unique_values\": 5,\n        \"samples\": [\n          0.975,\n          1.0,\n          0.9625\n        ],\n        \"semantic_type\": \"\",\n        \"description\": \"\"\n      }\n    },\n    {\n      \"column\": \"time_total_s\",\n      \"properties\": {\n        \"dtype\": \"number\",\n        \"std\": 49.75473251569196,\n        \"min\": 17.122331857681274,\n        \"max\": 165.03242230415344,\n        \"num_unique_values\": 10,\n        \"samples\": [\n          148.7989206314087,\n          34.12069797515869,\n          100.34077906608582\n        ],\n        \"semantic_type\": \"\",\n        \"description\": \"\"\n      }\n    }\n  ]\n}"
            }
          },
          "metadata": {},
          "execution_count": 30
        }
      ],
      "source": [
        "result_df = best_result.metrics_dataframe\n",
        "result_df[[\"training_iteration\", \"mean_accuracy\", \"time_total_s\"]]"
      ]
    },
    {
      "cell_type": "code",
      "source": [
        "from ray.tune.examples.mnist_pytorch import get_data_loaders\n",
        "\n",
        "model = timm.create_model('vit_base_patch16_224', pretrained=True)\n",
        "config = resolve_data_config({}, model=model)\n",
        "transform = create_transform(**config)\n",
        "\n",
        "with best_result.checkpoint.as_directory() as checkpoint_dir:\n",
        "    checkpoint_dict = torch.load(os.path.join(checkpoint_dir, \"checkpoint.pt\"))\n",
        "    model.load_state_dict(checkpoint_dict[\"model_state\"])"
      ],
      "metadata": {
        "id": "inN5Nx8tPM31"
      },
      "execution_count": null,
      "outputs": []
    },
    {
      "cell_type": "code",
      "source": [
        "# best_result.metrics_dataframe.plot(\"training_iteration\", \"mean_accuracy\")"
      ],
      "metadata": {
        "id": "uYkBeA_xPcU7"
      },
      "execution_count": null,
      "outputs": []
    },
    {
      "cell_type": "code",
      "source": [
        "test_accuracy(model)"
      ],
      "metadata": {
        "colab": {
          "base_uri": "https://localhost:8080/"
        },
        "id": "VnDGwdqadYUS",
        "outputId": "c76e5a62-1de0-4500-da46-6a3a52126c43"
      },
      "execution_count": null,
      "outputs": [
        {
          "output_type": "execute_result",
          "data": {
            "text/plain": [
              "0.55"
            ]
          },
          "metadata": {},
          "execution_count": 36
        }
      ]
    },
    {
      "cell_type": "code",
      "source": [
        "# import matplotlib.pyplot as plt\n",
        "\n",
        "# _, test_dataloader = get_data_loaders()\n",
        "# test_img = next(iter(test_dataloader))[0][0]\n",
        "\n",
        "# predicted_class = torch.argmax(model(test_img)).item()\n",
        "# print(\"Predicted Class =\", predicted_class)\n",
        "\n",
        "# # Need to reshape to (batch_size, channels, width, height)\n",
        "# test_img = test_img.numpy().reshape((1, 1, 28, 28))\n",
        "# plt.figure(figsize=(2, 2))\n",
        "# plt.imshow(test_img.reshape((28, 28)))"
      ],
      "metadata": {
        "id": "HvMRDwMDaMnz"
      },
      "execution_count": null,
      "outputs": []
    }
  ],
  "metadata": {
    "accelerator": "GPU",
    "colab": {
      "gpuType": "T4",
      "machine_shape": "hm",
      "provenance": [],
      "mount_file_id": "1fuX4QfoIRTbp3tdgQbrr8ZCw-wSFGmnZ",
      "authorship_tag": "ABX9TyOMAXxWhYZvzIMG3jYnoCIf",
      "include_colab_link": true
    },
    "kernelspec": {
      "display_name": "Python 3",
      "name": "python3"
    },
    "language_info": {
      "name": "python"
    }
  },
  "nbformat": 4,
  "nbformat_minor": 0
}